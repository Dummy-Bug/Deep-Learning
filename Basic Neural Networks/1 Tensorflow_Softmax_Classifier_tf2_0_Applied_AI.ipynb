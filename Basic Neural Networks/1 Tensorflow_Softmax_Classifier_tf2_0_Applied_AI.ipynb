{
  "nbformat": 4,
  "nbformat_minor": 0,
  "metadata": {
    "colab": {
      "name": "Tensorflow_Softmax_Classifier_tf2_0.ipynb",
      "provenance": []
    },
    "kernelspec": {
      "display_name": "Python 3",
      "language": "python",
      "name": "python3"
    }
  },
  "cells": [
    {
      "cell_type": "markdown",
      "metadata": {
        "id": "UhNRn7pEro8w"
      },
      "source": [
        "# Softmax Classifier using TensorFlow 2.0"
      ]
    },
    {
      "cell_type": "code",
      "metadata": {
        "id": "QAuadyaFro80"
      },
      "source": [
        "import matplotlib.pyplot as plt\n",
        "import numpy as np\n",
        "import tensorflow as tf"
      ],
      "execution_count": 2,
      "outputs": []
    },
    {
      "cell_type": "code",
      "source": [
        "print(\"TensorFlow version:\", tf.__version__)"
      ],
      "metadata": {
        "id": "C9da0zbXIuQJ",
        "outputId": "876156e5-c735-4e87-c59c-71278756e6fd",
        "colab": {
          "base_uri": "https://localhost:8080/"
        }
      },
      "execution_count": 3,
      "outputs": [
        {
          "output_type": "stream",
          "name": "stdout",
          "text": [
            "TensorFlow version: 2.7.0\n"
          ]
        }
      ]
    },
    {
      "cell_type": "markdown",
      "source": [
        "Here is the list of all the dataset present in TensorFlow\n",
        "\n",
        "https://www.tensorflow.org/api_docs/python/tf/keras/datasets"
      ],
      "metadata": {
        "id": "kN7PtJNXJE2Y"
      }
    },
    {
      "cell_type": "code",
      "metadata": {
        "id": "hMNWkj7ysSdu",
        "outputId": "06c2dd88-1a57-4bb8-b263-24a120225c2d",
        "colab": {
          "base_uri": "https://localhost:8080/"
        }
      },
      "source": [
        "mnist = tf.keras.datasets.mnist\n",
        "\n",
        "(x_train, y_train), (x_test, y_test) = mnist.load_data()\n"
      ],
      "execution_count": 4,
      "outputs": [
        {
          "output_type": "stream",
          "name": "stdout",
          "text": [
            "Downloading data from https://storage.googleapis.com/tensorflow/tf-keras-datasets/mnist.npz\n",
            "11493376/11490434 [==============================] - 0s 0us/step\n",
            "11501568/11490434 [==============================] - 0s 0us/step\n"
          ]
        }
      ]
    },
    {
      "cell_type": "code",
      "metadata": {
        "id": "QlttOqIJ2jip",
        "colab": {
          "base_uri": "https://localhost:8080/"
        },
        "outputId": "7bdea286-1f89-46e0-f4b8-72c0c8263be6"
      },
      "source": [
        "print('X_train: '  + str(x_train.shape))\n",
        "print('Y_train: '  + str(y_train.shape))\n",
        "print('X_test:  '  + str(x_test.shape))\n",
        "print('Y_test:  '  + str( y_test.shape))"
      ],
      "execution_count": 5,
      "outputs": [
        {
          "output_type": "stream",
          "name": "stdout",
          "text": [
            "X_train: (60000, 28, 28)\n",
            "Y_train: (60000,)\n",
            "X_test:  (10000, 28, 28)\n",
            "Y_test:  (10000,)\n"
          ]
        }
      ]
    },
    {
      "cell_type": "code",
      "metadata": {
        "id": "OXrZDE624FWd"
      },
      "source": [
        "# normalising the images to convert all the pixel values between 0 and 1\n",
        "\n",
        "x_train, x_test = x_train / 255.0, x_test / 255.0"
      ],
      "execution_count": 6,
      "outputs": []
    },
    {
      "cell_type": "markdown",
      "metadata": {
        "id": "GNdNwpWM2eXh"
      },
      "source": [
        "In this dataset we have a total of 70000 images out of which 60000 are present in train dataset and rest 10000 are present in test dataset. Each image is of shape 28x28 and we have normalize the images so each pixel value lies between 0-1."
      ]
    },
    {
      "cell_type": "markdown",
      "metadata": {
        "id": "0dPnGM6c27FA"
      },
      "source": [
        "## Printing an image at a particular index"
      ]
    },
    {
      "cell_type": "markdown",
      "source": [
        "**PIL**(Python Imaging Library) is a free and open-source additional library for the Python programming language that adds support for opening, manipulating, and saving many different image file formats.\n",
        "\n",
        "https://matplotlib.org/stable/api/_as_gen/matplotlib.pyplot.imshow.html\n",
        "\n",
        "\n",
        "RGB VS RGBA\n",
        "\n",
        "https://www.geeksforgeeks.org/difference-between-rgb-vs-rgba-color-format/#:~:text=RGB%20is%20a%20three%2Dchannel,Blue%2C%20and%20an%20Alpha%20value."
      ],
      "metadata": {
        "id": "QOx6GexYJ3Gl"
      }
    },
    {
      "cell_type": "code",
      "metadata": {
        "id": "YUInsr4D26IV",
        "colab": {
          "base_uri": "https://localhost:8080/",
          "height": 283
        },
        "outputId": "c9dad223-dfe5-4e77-b0bd-d9061d5d571f"
      },
      "source": [
        "index= 9  # we can modify this value\n",
        "plt.imshow(x_train[index], cmap = plt.get_cmap('gray'))\n",
        "plt.show()\n",
        "print('The image shown has an output label', y_train[index])"
      ],
      "execution_count": 10,
      "outputs": [
        {
          "output_type": "display_data",
          "data": {
            "image/png": "[encoded data removed]",
            "text/plain": [
              "<Figure size 432x288 with 1 Axes>"
            ]
          },
          "metadata": {
            "needs_background": "light"
          }
        },
        {
          "output_type": "stream",
          "name": "stdout",
          "text": [
            "The image shown has an output label 4\n"
          ]
        }
      ]
    },
    {
      "cell_type": "code",
      "source": [
        "index= 3  # we can modify this value\n",
        "plt.imshow(x_train[index], cmap=plt.get_cmap('gray'))\n",
        "plt.show()\n",
        "print('The image shown has an output label', y_train[index])"
      ],
      "metadata": {
        "id": "0d0_yvWKJfyR",
        "outputId": "c5688ca8-dd21-49e6-c248-d1ca9ecfb61d",
        "colab": {
          "base_uri": "https://localhost:8080/",
          "height": 283
        }
      },
      "execution_count": 9,
      "outputs": [
        {
          "output_type": "display_data",
          "data": {
            "image/png": "[encoded data removed]",
            "text/plain": [
              "<Figure size 432x288 with 1 Axes>"
            ]
          },
          "metadata": {
            "needs_background": "light"
          }
        },
        {
          "output_type": "stream",
          "name": "stdout",
          "text": [
            "The image shown has an output label 1\n"
          ]
        }
      ]
    },
    {
      "cell_type": "code",
      "metadata": {
        "id": "dUu6ZPb-oGa6",
        "colab": {
          "base_uri": "https://localhost:8080/"
        },
        "outputId": "d29ce1f7-4a82-44ff-9d92-e1f6b0b885b9"
      },
      "source": [
        "y_train[:5]"
      ],
      "execution_count": null,
      "outputs": [
        {
          "output_type": "execute_result",
          "data": {
            "text/plain": [
              "array([5, 0, 4, 1, 9], dtype=uint8)"
            ]
          },
          "metadata": {},
          "execution_count": 12
        }
      ]
    },
    {
      "cell_type": "markdown",
      "metadata": {
        "id": "GgaHugyNro9i"
      },
      "source": [
        "\n",
        "We're going to want our class-labels as \"one-hot vectors\". A one-hot vector is a vector which is 0 in most dimensions, and 1 in a single dimension. In this case, the t-th digit will be represented as a vector which is 1 in the t-th dimension. For example, 3 would be [0,0,0,1,0,0,0,0,0,0]"
      ]
    },
    {
      "cell_type": "code",
      "metadata": {
        "id": "IwEk7I3iro9k"
      },
      "source": [
        "#We have to perform one hot encoding of categorical variables, we can convert the variables to one hot encoding using to_categorical function\n",
        "\n",
        "y_train_categorical = tf.keras.utils.to_categorical(y_train, num_classes=10)\n",
        "y_test_categorical  = tf.keras.utils.to_categorical(y_test, num_classes=10)"
      ],
      "execution_count": 11,
      "outputs": []
    },
    {
      "cell_type": "code",
      "metadata": {
        "id": "GEUXXHxH4-2x",
        "colab": {
          "base_uri": "https://localhost:8080/"
        },
        "outputId": "48ae6089-3580-4829-f49b-08997ec2cf37"
      },
      "source": [
        "y_train_categorical[:5]"
      ],
      "execution_count": 12,
      "outputs": [
        {
          "output_type": "execute_result",
          "data": {
            "text/plain": [
              "array([[0., 0., 0., 0., 0., 1., 0., 0., 0., 0.],\n",
              "       [1., 0., 0., 0., 0., 0., 0., 0., 0., 0.],\n",
              "       [0., 0., 0., 0., 1., 0., 0., 0., 0., 0.],\n",
              "       [0., 1., 0., 0., 0., 0., 0., 0., 0., 0.],\n",
              "       [0., 0., 0., 0., 0., 0., 0., 0., 0., 1.]], dtype=float32)"
            ]
          },
          "metadata": {},
          "execution_count": 12
        }
      ]
    },
    {
      "cell_type": "markdown",
      "metadata": {
        "id": "_iquBvcxro9s"
      },
      "source": [
        "\n",
        "If you want to assign probabilities to an object being one of several different things, softmax (Multiclass Logistic regression) is the thing to do, because softmax gives us a list of values between 0 and 1 that add up to 1. Even later on, when we train more sophisticated models, the final step will be a layer of softmax.\n",
        "\n",
        "A softmax regression has two steps: first we add up the evidence of our input being in certain classes, and then we convert that evidence into probabilities.\n"
      ]
    },
    {
      "cell_type": "code",
      "metadata": {
        "scrolled": true,
        "id": "5sFc2FZcro9y",
        "colab": {
          "base_uri": "https://localhost:8080/"
        },
        "outputId": "a2afb7f8-20ae-434c-b4fc-e164ad2cbf98"
      },
      "source": [
        "# Get a list of devices like GPUs and CPUs available to TF\n",
        "\n",
        "from tensorflow.python.client import device_lib\n",
        "print(device_lib.list_local_devices())"
      ],
      "execution_count": 13,
      "outputs": [
        {
          "output_type": "stream",
          "name": "stdout",
          "text": [
            "[name: \"/device:CPU:0\"\n",
            "device_type: \"CPU\"\n",
            "memory_limit: 268435456\n",
            "locality {\n",
            "}\n",
            "incarnation: 13570921169497646536\n",
            "xla_global_id: -1\n",
            "]\n"
          ]
        }
      ]
    },
    {
      "cell_type": "markdown",
      "metadata": {
        "id": "6aS66Qtm5h-h"
      },
      "source": [
        "## <font color='red'> Building our model </font>\n",
        "### Now we have prepared the dataset, the next steps in deep learning models in tensorflow 2.0 are as follows.\n",
        "1. Defining the architecture of the model.\n",
        "2. Compile the model by defining loss function, optimizer and performance metrics.\n",
        "3. Fit the model in the dataset."
      ]
    },
    {
      "cell_type": "markdown",
      "metadata": {
        "id": "Q3gMQgtH5-U-"
      },
      "source": [
        "## Defining the architecture of the model"
      ]
    },
    {
      "cell_type": "markdown",
      "source": [
        "https://www.tensorflow.org/api_docs/python/tf/keras/Sequential\n",
        "\n",
        "A Sequential model is appropriate for a plain stack of layers where each layer has exactly one input tensor and one output tensor.\n",
        "\n",
        "A Sequential model is not appropriate when:\n",
        "\n",
        "* Your model has multiple inputs or multiple outputs\n",
        "* Any of your layers has multiple inputs or multiple outputs\n",
        "* You need to do layer sharing\n",
        "* You want non-linear topology (e.g. a residual connection, a multi-branch model)"
      ],
      "metadata": {
        "id": "5cbU3-zvOQgj"
      }
    },
    {
      "cell_type": "code",
      "metadata": {
        "id": "Hdrlw7eO59ki",
        "colab": {
          "base_uri": "https://localhost:8080/"
        },
        "outputId": "a3e33626-5d13-48e2-860b-8c432ab238b4"
      },
      "source": [
        "# we always define the layers and the input shape in the layers\n",
        "# first we will flatten the 2D input to 1d vector, now we will have 784 dim for each datapoint\n",
        "# then we will pass it through dense layers, and finally with output dense layer with activation as softmax\n",
        "\n",
        "# The Sequential constructor takes an array of Keras Layers\n",
        "model = tf.keras.models.Sequential([\n",
        "  tf.keras.layers.Flatten(input_shape=(28, 28)),\n",
        "  tf.keras.layers.Dense(128, activation='relu'),\n",
        "  tf.keras.layers.Dense(64, activation='relu'),\n",
        "  tf.keras.layers.Dense(10,activation='softmax')\n",
        "]) # first dense layer has 128 nodes, second dense layer has 64 nodes.\n",
        "model.summary()# last layer has 10 nodes with softmax because we have 10 Labels in Target feature."
      ],
      "execution_count": 14,
      "outputs": [
        {
          "output_type": "stream",
          "name": "stdout",
          "text": [
            "Model: \"sequential\"\n",
            "_________________________________________________________________\n",
            " Layer (type)                Output Shape              Param #   \n",
            "=================================================================\n",
            " flatten (Flatten)           (None, 784)               0         \n",
            "                                                                 \n",
            " dense (Dense)               (None, 128)               100480    \n",
            "                                                                 \n",
            " dense_1 (Dense)             (None, 64)                8256      \n",
            "                                                                 \n",
            " dense_2 (Dense)             (None, 10)                650       \n",
            "                                                                 \n",
            "=================================================================\n",
            "Total params: 109,386\n",
            "Trainable params: 109,386\n",
            "Non-trainable params: 0\n",
            "_________________________________________________________________\n"
          ]
        }
      ]
    },
    {
      "cell_type": "markdown",
      "source": [
        "# Compiling the Model"
      ],
      "metadata": {
        "id": "Z3IYXaj-QgRo"
      }
    },
    {
      "cell_type": "code",
      "metadata": {
        "id": "eNwmdcKj5mQG"
      },
      "source": [
        "model.compile(\n",
        "    optimizer='adam',\n",
        "    loss='categorical_crossentropy',\n",
        "    metrics=['accuracy']\n",
        "    )"
      ],
      "execution_count": 15,
      "outputs": []
    },
    {
      "cell_type": "markdown",
      "source": [
        "https://machinelearningmastery.com/evaluate-performance-deep-learning-models-keras/"
      ],
      "metadata": {
        "id": "pRI-rt9yTeRp"
      }
    },
    {
      "cell_type": "markdown",
      "source": [
        "# Training The Model"
      ],
      "metadata": {
        "id": "Fau4bKgZTfiJ"
      }
    },
    {
      "cell_type": "code",
      "metadata": {
        "id": "Oa8G5itU8loS",
        "colab": {
          "base_uri": "https://localhost:8080/"
        },
        "outputId": "d17a0ea2-1608-4929-fb06-4dd9f4094bf0"
      },
      "source": [
        "history = model.fit(\n",
        "    x_train,\n",
        "    y_train_categorical,\n",
        "    epochs=5,\n",
        "    validation_data = (x_test,y_test_categorical)\n",
        "    )\n",
        "# The returned history object holds a record of the loss values and metric values during training:"
      ],
      "execution_count": 16,
      "outputs": [
        {
          "output_type": "stream",
          "name": "stdout",
          "text": [
            "Epoch 1/5\n",
            "1875/1875 [==============================] - 5s 2ms/step - loss: 0.2382 - accuracy: 0.9303 - val_loss: 0.1380 - val_accuracy: 0.9604\n",
            "Epoch 2/5\n",
            "1875/1875 [==============================] - 4s 2ms/step - loss: 0.1003 - accuracy: 0.9700 - val_loss: 0.0919 - val_accuracy: 0.9688\n",
            "Epoch 3/5\n",
            "1875/1875 [==============================] - 4s 2ms/step - loss: 0.0700 - accuracy: 0.9782 - val_loss: 0.0796 - val_accuracy: 0.9761\n",
            "Epoch 4/5\n",
            "1875/1875 [==============================] - 4s 2ms/step - loss: 0.0521 - accuracy: 0.9834 - val_loss: 0.0727 - val_accuracy: 0.9781\n",
            "Epoch 5/5\n",
            "1875/1875 [==============================] - 4s 2ms/step - loss: 0.0419 - accuracy: 0.9864 - val_loss: 0.0855 - val_accuracy: 0.9747\n"
          ]
        }
      ]
    },
    {
      "cell_type": "markdown",
      "source": [
        "https://www.tensorflow.org/guide/keras/train_and_evaluate"
      ],
      "metadata": {
        "id": "yKSvorhUTJOa"
      }
    },
    {
      "cell_type": "code",
      "metadata": {
        "id": "Mj6p-zi49g_S",
        "colab": {
          "base_uri": "https://localhost:8080/",
          "height": 279
        },
        "outputId": "ca2cbced-0571-4484-82df-5ab36e08d3dc"
      },
      "source": [
        "plt.plot(history.history['accuracy'], label='Train Accuracy')\n",
        "plt.plot(history.history['val_accuracy'], label='Cross Val_accuracy')\n",
        "\n",
        "plt.xlabel('Epoch')\n",
        "plt.ylabel('Accuracy')\n",
        "plt.legend(loc='best')\n",
        "\n",
        "plt.show()"
      ],
      "execution_count": 20,
      "outputs": [
        {
          "output_type": "display_data",
          "data": {
            "image/png": "[encoded data removed]",
            "text/plain": [
              "<Figure size 432x288 with 1 Axes>"
            ]
          },
          "metadata": {
            "needs_background": "light"
          }
        }
      ]
    },
    {
      "cell_type": "code",
      "metadata": {
        "id": "gkM-m4sM-IxE",
        "colab": {
          "base_uri": "https://localhost:8080/",
          "height": 279
        },
        "outputId": "09ba7708-3770-45da-fc96-fd0fed815284"
      },
      "source": [
        "plt.plot(history.history['loss'], label='loss')\n",
        "plt.plot(history.history['val_loss'], label='val_loss')\n",
        "\n",
        "plt.xlabel('Epoch')\n",
        "plt.ylabel('Loss')\n",
        "plt.legend(loc='best')\n",
        "\n",
        "plt.show()"
      ],
      "execution_count": 22,
      "outputs": [
        {
          "output_type": "display_data",
          "data": {
            "image/png": "[encoded data removed]",
            "text/plain": [
              "<Figure size 432x288 with 1 Axes>"
            ]
          },
          "metadata": {
            "needs_background": "light"
          }
        }
      ]
    },
    {
      "cell_type": "markdown",
      "source": [
        "https://colab.research.google.com/github/AviatorMoser/keras-mnist-tutorial/blob/master/MNIST%20in%20Keras.ipynb#scrollTo=sK5FQ7c4Ov8M"
      ],
      "metadata": {
        "id": "oPdIcKZ5UOtT"
      }
    }
  ]
}