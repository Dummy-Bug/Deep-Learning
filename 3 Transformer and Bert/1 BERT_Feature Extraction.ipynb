{
  "cells": [
    {
      "cell_type": "code",
      "execution_count": null,
      "metadata": {
        "colab": {
          "base_uri": "https://localhost:8080/"
        },
        "id": "i_TziN069euC",
        "outputId": "6a72114e-b08b-4ec5-b08d-38da6ace7cf1"
      },
      "outputs": [
        {
          "name": "stdout",
          "output_type": "stream",
          "text": [
            "Collecting transformers\n",
            "  Downloading transformers-4.15.0-py3-none-any.whl (3.4 MB)\n",
            "\u001b[K     |████████████████████████████████| 3.4 MB 4.3 MB/s \n",
            "\u001b[?25hRequirement already satisfied: requests in /usr/local/lib/python3.7/dist-packages (from transformers) (2.23.0)\n",
            "Collecting pyyaml>=5.1\n",
            "  Downloading PyYAML-6.0-cp37-cp37m-manylinux_2_5_x86_64.manylinux1_x86_64.manylinux_2_12_x86_64.manylinux2010_x86_64.whl (596 kB)\n",
            "\u001b[K     |████████████████████████████████| 596 kB 59.7 MB/s \n",
            "\u001b[?25hRequirement already satisfied: numpy>=1.17 in /usr/local/lib/python3.7/dist-packages (from transformers) (1.19.5)\n",
            "Requirement already satisfied: packaging>=20.0 in /usr/local/lib/python3.7/dist-packages (from transformers) (21.3)\n",
            "Requirement already satisfied: tqdm>=4.27 in /usr/local/lib/python3.7/dist-packages (from transformers) (4.62.3)\n",
            "Requirement already satisfied: importlib-metadata in /usr/local/lib/python3.7/dist-packages (from transformers) (4.10.0)\n",
            "Collecting tokenizers<0.11,>=0.10.1\n",
            "  Downloading tokenizers-0.10.3-cp37-cp37m-manylinux_2_5_x86_64.manylinux1_x86_64.manylinux_2_12_x86_64.manylinux2010_x86_64.whl (3.3 MB)\n",
            "\u001b[K     |████████████████████████████████| 3.3 MB 41.8 MB/s \n",
            "\u001b[?25hRequirement already satisfied: regex!=2019.12.17 in /usr/local/lib/python3.7/dist-packages (from transformers) (2019.12.20)\n",
            "Requirement already satisfied: filelock in /usr/local/lib/python3.7/dist-packages (from transformers) (3.4.2)\n",
            "Collecting sacremoses\n",
            "  Downloading sacremoses-0.0.47-py2.py3-none-any.whl (895 kB)\n",
            "\u001b[K     |████████████████████████████████| 895 kB 58.3 MB/s \n",
            "\u001b[?25hCollecting huggingface-hub<1.0,>=0.1.0\n",
            "  Downloading huggingface_hub-0.4.0-py3-none-any.whl (67 kB)\n",
            "\u001b[K     |████████████████████████████████| 67 kB 5.2 MB/s \n",
            "\u001b[?25hRequirement already satisfied: typing-extensions>=3.7.4.3 in /usr/local/lib/python3.7/dist-packages (from huggingface-hub<1.0,>=0.1.0->transformers) (3.10.0.2)\n",
            "Requirement already satisfied: pyparsing!=3.0.5,>=2.0.2 in /usr/local/lib/python3.7/dist-packages (from packaging>=20.0->transformers) (3.0.6)\n",
            "Requirement already satisfied: zipp>=0.5 in /usr/local/lib/python3.7/dist-packages (from importlib-metadata->transformers) (3.7.0)\n",
            "Requirement already satisfied: urllib3!=1.25.0,!=1.25.1,<1.26,>=1.21.1 in /usr/local/lib/python3.7/dist-packages (from requests->transformers) (1.24.3)\n",
            "Requirement already satisfied: idna<3,>=2.5 in /usr/local/lib/python3.7/dist-packages (from requests->transformers) (2.10)\n",
            "Requirement already satisfied: certifi>=2017.4.17 in /usr/local/lib/python3.7/dist-packages (from requests->transformers) (2021.10.8)\n",
            "Requirement already satisfied: chardet<4,>=3.0.2 in /usr/local/lib/python3.7/dist-packages (from requests->transformers) (3.0.4)\n",
            "Requirement already satisfied: joblib in /usr/local/lib/python3.7/dist-packages (from sacremoses->transformers) (1.1.0)\n",
            "Requirement already satisfied: click in /usr/local/lib/python3.7/dist-packages (from sacremoses->transformers) (7.1.2)\n",
            "Requirement already satisfied: six in /usr/local/lib/python3.7/dist-packages (from sacremoses->transformers) (1.15.0)\n",
            "Installing collected packages: pyyaml, tokenizers, sacremoses, huggingface-hub, transformers\n",
            "  Attempting uninstall: pyyaml\n",
            "    Found existing installation: PyYAML 3.13\n",
            "    Uninstalling PyYAML-3.13:\n",
            "      Successfully uninstalled PyYAML-3.13\n",
            "Successfully installed huggingface-hub-0.4.0 pyyaml-6.0 sacremoses-0.0.47 tokenizers-0.10.3 transformers-4.15.0\n"
          ]
        }
      ],
      "source": [
        "# install huggingface Transformers [https://huggingface.co/transformers/installation.html]\n",
        "\n",
        "# Many transformer based models in a single library: https://github.com/huggingface/transformers#model-architectures\n",
        "! pip install transformers"
      ]
    },
    {
      "cell_type": "code",
      "execution_count": null,
      "metadata": {
        "id": "M4O7AVSr-GA1"
      },
      "outputs": [],
      "source": [
        "# Reference: https://medium.com/tensorflow/using-tensorflow-2-for-state-of-the-art-natural-language-processing-102445cda54a\n",
        "# Ref: https://huggingface.co/transformers/notebooks.html \n",
        "# https://huggingface.co/docs/transformers/training"
      ]
    },
    {
      "cell_type": "code",
      "execution_count": null,
      "metadata": {
        "colab": {
          "base_uri": "https://localhost:8080/"
        },
        "id": "BMvKYmV48aHi",
        "outputId": "d550a888-0ef0-415b-d50a-54438e2e1bce"
      },
      "outputs": [
        {
          "name": "stdout",
          "output_type": "stream",
          "text": [
            "2.7.0\n"
          ]
        }
      ],
      "source": [
        "%tensorflow_version 2.x\n",
        "import tensorflow as tf\n",
        "print(tf.__version__)"
      ]
    },
    {
      "cell_type": "markdown",
      "metadata": {
        "id": "sBkJIsJzBDLb"
      },
      "source": [
        "## Tokenization\n",
        "\n",
        "* At the end of the day for any NLP task we have to tokenize the data."
      ]
    },
    {
      "cell_type": "code",
      "execution_count": null,
      "metadata": {
        "colab": {
          "base_uri": "https://localhost:8080/"
        },
        "id": "8aihC2QV6IXk",
        "outputId": "f7c4beb0-48e7-4dd2-91f4-bbfbe1adfecb"
      },
      "outputs": [
        {
          "name": "stdout",
          "output_type": "stream",
          "text": [
            "{0: 'long', 1: 'very', 2: 'corpus...'}\n"
          ]
        }
      ],
      "source": [
        "# Tokenization: map words to ids\n",
        "# Refer: https://colab.research.google.com/github/huggingface/transformers/blob/master/notebooks/01-training-tokenizers.ipynb#scrollTo=LgktNYt7ADPS\n",
        "\n",
        "# simple example\n",
        "\n",
        "s           = \"very very long corpus...\"\n",
        "words       = s.split(\" \")  # Split over space\n",
        "vocabulary  = dict(enumerate(set(words)))  # Map storing the word to it's corresponding id\n",
        "\n",
        "print(vocabulary)\n",
        "\n",
        "# Problems: cat(1123) vs cats(1346)"
      ]
    },
    {
      "cell_type": "markdown",
      "metadata": {
        "id": "bcSOKzKPhugC"
      },
      "source": [
        "* so for each indviual word we have associate a numeric value."
      ]
    },
    {
      "cell_type": "markdown",
      "metadata": {
        "id": "XMts2iRpCQ82"
      },
      "source": [
        "### Sub-tokenization\n",
        "\n",
        "- Why? : fast vs faster, cat vs cats ,\n",
        "\n",
        "- In simple tokenization scheme fast and faster are considered as different words. Hence fast and faster will have different index(numeric value assiciated to them).so here numeric values are not telling us that fast and faster are the same words with different suffixes.However we can also do more pre-processing and remove the suffix by converting the words to their root form(yusing stemmers).But typically in Bert and TRansformer we use Sub-tokenization.\n",
        "\n",
        "- example: cats --**bold text**> [cat, ##s] \n",
        "\n",
        "* so first of all **fast** will be assigned a numerical value but it will create two indices for the words **faster** [fast] and [##er].Thus a single word **faster** is now broken into two words.These two **##** means thi given word has to be concatenated with previous word to get the actual word.\n",
        "\n",
        "* similarly if have quick and quicker then **quick** will have some numeric value and **quicker** will be divided into [quick] and [##er]. The advantage here is that numeric value assigned to [##er] from faster and [##er] from quicker will be same and moreover value assigned to quick from 'quick' and quick from 'quicker' will also be the same.\n",
        "\n",
        "- Image: https://nlp.fast.ai/images/multifit_vocabularies.png\n",
        "\n",
        "<img src = \"https://nlp.fast.ai/images/multifit_vocabularies.png\" alt = \n",
        "\"Smiley face\" height=\"75%\" width=\"75%\">\n"
      ]
    },
    {
      "cell_type": "markdown",
      "metadata": {
        "id": "N6JpUezDDLOw"
      },
      "source": [
        "### Tokenization in huggingface\n"
      ]
    },
    {
      "cell_type": "code",
      "execution_count": null,
      "metadata": {
        "colab": {
          "base_uri": "https://localhost:8080/",
          "height": 145,
          "referenced_widgets": [
            "25c2f1e89ee1440f94f7714b5675a98c",
            "36199840159f48c48c5c7fce677b1631",
            "77aa1fa5f0c94ff5af381440ca67a0a8",
            "08c97fa47b88455a96add95915683e3a",
            "76df327143e84f94b9a22b17c36c6ec3",
            "c42b044a2ccc464298bcdd45919a2ec2",
            "2d82d4b563c44c499b1ba2b425a9b01a",
            "31c6f3515b894081bdafaf315d9d4d07",
            "5df956029b09481c96e1405f94b0b227",
            "e7284039f7374a0ca92d6a2341be87ae",
            "65fd39e80b8a49bb9cb2f8e4d63ad1a5",
            "672b55e3d2a148e0be3223892171ddb5",
            "e5d7d44c749544bf8d3001b93f1f2945",
            "495e7a647f4840d5baadda6def607379",
            "28522a889bca400cbd6475335a2bee6a",
            "bc566667d785444680238a2bf88a74ca",
            "e4217f0c5d6947e9ade2b7847ffd70b6",
            "e107daff496846a781ca348d193182a6",
            "25594f20a4294e7b80e034f1a303dca9",
            "7caf9b5b8ebd41f68f822e0b718d84e3",
            "a60598497acb40e7be3f3f0025751737",
            "f2a444d4de3a424e9e84e3c127217aa2",
            "42f1e5a14fd344cfbbb9942d505336cc",
            "2489c877fa744e14ae19ad8615088c3c",
            "98f79149eaf444539670692c4fb6e8c1",
            "0a1fb072f3f64f6c867ba6fa70921f76",
            "4f8e89a461e84b9d9e4a1c29038608ba",
            "e3addab9c2d2460a81755c04af789424",
            "fac42091936546578a501aaa4f2bd1d2",
            "77e7c46de82d4d16a0f9a41f75a6f21d",
            "33f0dd390b8c4157a669df4825cf595c",
            "8ad5914fcbaa4baca5f3290a5299c658",
            "c15107f875504036bd15a8949eb994a8",
            "1c2df7c9ce6e4ab7beacb39c311311da",
            "4cce8ec0181e4201ab16c3b26d725018",
            "ee8ab5cb6200423da7e5f10be62c9909",
            "4384dbc94d774b71bca76bcdf032b53b",
            "8cf311453f4a4fbe9d67492a63e306b6",
            "dcf69beaa70d488ea778fc3a79e1f107",
            "bf7901ba48304a30a327d97d93df66d8",
            "b5804c062ed148f3868af8bd53444320",
            "668113d61a5d4fc3ae8dc753e5c1fa63",
            "876296c071c344bf865407fe0b89addb",
            "9c6b4368c2034c17830ab8832aca9616"
          ]
        },
        "id": "8ug084UQCbM9",
        "outputId": "ce1d65a6-dca8-48fa-b5df-b1f9ee654059"
      },
      "outputs": [
        {
          "data": {
            "application/vnd.jupyter.widget-view+json": {
              "model_id": "25c2f1e89ee1440f94f7714b5675a98c",
              "version_major": 2,
              "version_minor": 0
            },
            "text/plain": [
              "Downloading:   0%|          | 0.00/208k [00:00<?, ?B/s]"
            ]
          },
          "metadata": {},
          "output_type": "display_data"
        },
        {
          "data": {
            "application/vnd.jupyter.widget-view+json": {
              "model_id": "672b55e3d2a148e0be3223892171ddb5",
              "version_major": 2,
              "version_minor": 0
            },
            "text/plain": [
              "Downloading:   0%|          | 0.00/29.0 [00:00<?, ?B/s]"
            ]
          },
          "metadata": {},
          "output_type": "display_data"
        },
        {
          "data": {
            "application/vnd.jupyter.widget-view+json": {
              "model_id": "42f1e5a14fd344cfbbb9942d505336cc",
              "version_major": 2,
              "version_minor": 0
            },
            "text/plain": [
              "Downloading:   0%|          | 0.00/426k [00:00<?, ?B/s]"
            ]
          },
          "metadata": {},
          "output_type": "display_data"
        },
        {
          "data": {
            "application/vnd.jupyter.widget-view+json": {
              "model_id": "1c2df7c9ce6e4ab7beacb39c311311da",
              "version_major": 2,
              "version_minor": 0
            },
            "text/plain": [
              "Downloading:   0%|          | 0.00/570 [00:00<?, ?B/s]"
            ]
          },
          "metadata": {},
          "output_type": "display_data"
        }
      ],
      "source": [
        "from transformers import BertTokenizer\n",
        "\n",
        "# https://huggingface.co/docs/transformers/model_doc/bert\n",
        "# we are using pre-trained bert tokenizer\n",
        "\n",
        "bert_tokenizer = BertTokenizer.from_pretrained(\"bert-base-cased\") # cased means upper case and lowercased words are treated different.\n",
        "                                                                  # Uncased means it is case insensitive\n",
        "# Every Bert/Transformer Model has it's own tokenizer."
      ]
    },
    {
      "cell_type": "code",
      "execution_count": null,
      "metadata": {
        "colab": {
          "base_uri": "https://localhost:8080/"
        },
        "id": "ipBz-0-3p8c6",
        "outputId": "aeae3930-5bd6-4761-c12b-689b85f5acde"
      },
      "outputs": [
        {
          "name": "stdout",
          "output_type": "stream",
          "text": [
            "[CLS]\n",
            "[SEP]\n",
            "[MASK]\n",
            "[PAD]\n"
          ]
        }
      ],
      "source": [
        "# Refer BERT architecture from the previous videos in the course.\n",
        "\n",
        "#https://huggingface.co/transformers/main_classes/tokenizer.html\n",
        "\n",
        "print(bert_tokenizer.cls_token)\n",
        "print(bert_tokenizer.sep_token)\n",
        "print(bert_tokenizer.mask_token)\n",
        "print(bert_tokenizer.pad_token) \n",
        "# If input is not 512 words then we pad it \n",
        "\n",
        "# remember we always need to give [cls] as our first word in the input."
      ]
    },
    {
      "cell_type": "code",
      "execution_count": null,
      "metadata": {
        "colab": {
          "base_uri": "https://localhost:8080/"
        },
        "id": "S6oLFVcu8iAK",
        "outputId": "3efb7af2-3c7f-41c5-c09a-779bcede2b53"
      },
      "outputs": [
        {
          "name": "stdout",
          "output_type": "stream",
          "text": [
            "[101, 8790, 117, 146, 1821, 1600, 7069, 3135, 1559, 106, 102] 11\n",
            "[CLS] Hi, I am James bond 007! [SEP]\n"
          ]
        }
      ],
      "source": [
        "Input_String = \"Hi, I am James bond 007 !\"\n",
        "\n",
        "enc = bert_tokenizer.encode(Input_String)\n",
        "\n",
        "print(enc,len(enc)) # so enc is encoded equivalent of the above string.\n",
        "\n",
        "print(bert_tokenizer.decode(enc))\n",
        "# There are two extra symbols encoded also [CLS] and [SEP]"
      ]
    },
    {
      "cell_type": "code",
      "execution_count": null,
      "metadata": {
        "colab": {
          "base_uri": "https://localhost:8080/"
        },
        "id": "vkaeZATw9DpI",
        "outputId": "58bcc18f-17ec-47bf-82f6-540e47437d78"
      },
      "outputs": [
        {
          "name": "stdout",
          "output_type": "stream",
          "text": [
            "I\n",
            "!\n"
          ]
        }
      ],
      "source": [
        "print(bert_tokenizer.decode([146]))\n",
        "print(bert_tokenizer.decode([106]))"
      ]
    },
    {
      "cell_type": "code",
      "execution_count": null,
      "metadata": {
        "colab": {
          "base_uri": "https://localhost:8080/"
        },
        "id": "k2qSy-ZB9ZOT",
        "outputId": "9a9726ae-cf75-4eac-8b1f-febc10b4d108"
      },
      "outputs": [
        {
          "name": "stdout",
          "output_type": "stream",
          "text": [
            "tf.Tensor([[  101   146  1267  1242 11771  1105  6363   102]], shape=(1, 8), dtype=int32) <class 'tensorflow.python.framework.ops.EagerTensor'>\n"
          ]
        }
      ],
      "source": [
        "enc = bert_tokenizer.encode(\"I see many cats and dogs\",return_tensors = \"tf\")\n",
        "print(enc,type(enc))\n",
        "\n",
        "# Here cats is not broken into 2 words."
      ]
    },
    {
      "cell_type": "code",
      "execution_count": null,
      "metadata": {
        "colab": {
          "base_uri": "https://localhost:8080/"
        },
        "id": "fZzKpTL1pL7Z",
        "outputId": "c78bc442-1ff7-4fad-acf4-38cfd6a77820"
      },
      "outputs": [
        {
          "name": "stdout",
          "output_type": "stream",
          "text": [
            "[101, 2091, 3186, 8948, 2502, 2698, 1105, 2947, 4946, 102]\n",
            "[CLS] Dope Money comes fast and goes faster [SEP]\n"
          ]
        }
      ],
      "source": [
        "enc = bert_tokenizer.encode(\"Dope Money comes fast and goes faster\")\n",
        "print(enc)\n",
        "\n",
        "print(bert_tokenizer.decode(enc))\n",
        "\n",
        "# Here faster is not broken into 2 words.As every tokenizer is implemented differently based on what that model expects."
      ]
    },
    {
      "cell_type": "markdown",
      "metadata": {
        "id": "FK31Jni1-d5b"
      },
      "source": [
        "## BERT Models\n",
        "- DistillBERT\n",
        "- RoBERTa\n",
        "- https://miro.medium.com/max/2000/1*IFVX74cEe8U5D1GveL1uZA.png \n",
        "<img src=\"https://miro.medium.com/max/2000/1*IFVX74cEe8U5D1GveL1uZA.png \" alt=\"Smiley face\" height=\"75%\" width=\"75%\">\n",
        "\n",
        "- Y-axis contains number of parameter in Millions\n",
        "\n",
        "**which Bert Model to chose?**\n",
        "\n",
        "- https://miro.medium.com/max/1400/1*bSUO_Qib4te1xQmBlQjWaw.png\n",
        "\n",
        "<img src=\"https://miro.medium.com/max/1400/1*bSUO_Qib4te1xQmBlQjWaw.png \" alt=\"Smiley face\" height=\"75%\" width=\"75%\">\n",
        "\n",
        "- General Language Understanding Evaluation (GLUE)  : https://gluebenchmark.com/\n"
      ]
    },
    {
      "cell_type": "markdown",
      "metadata": {
        "id": "OUs0eGVUqxfV"
      },
      "source": [
        "* So DistilBert is more common these days \n",
        "* However with one line code change we can use all above models."
      ]
    },
    {
      "cell_type": "code",
      "execution_count": null,
      "metadata": {
        "colab": {
          "base_uri": "https://localhost:8080/",
          "height": 284,
          "referenced_widgets": [
            "242d637fb5ab44aab9c3501a5ce71d53",
            "c9b804539d254ea7b9ea0163d19c336b",
            "b4f98564298748c3a05a6090d299e53a",
            "14d63975b3094de783a2fcf1f0a76a72",
            "d407864dc4914e618fba904f5133df1f",
            "0a3bf527c5bf49abb06f007df66802a0",
            "22ace10ea89e4bb1865b4eec4acb4cf4",
            "adeda402ea4145c5835d79ccc345f69f",
            "e2d02b526bbc4254bbd5d44e5f0885ee",
            "f93cf61849bc442191ef95bd6c42ad3e",
            "e3d3f577f1c34449aa9f153035eb9fda",
            "2415f82c910d4c2c8317a7cf2cdb3a95",
            "16f1227c3236479cb43381f30052dd0e",
            "a3dfa241a82a4dac9fc18b6c7ea4f6e6",
            "f71f1ff2199e4f9ca62bfeea96c1533b",
            "8284af66b7af466c8380a0ebc37c3750",
            "5ee970c145d34e0da7549ac65c8813a6",
            "58f8a85f5aca4747a3ad23e8624cf1f7",
            "79936454a8d745c39e03d137a805e62e",
            "c42d68e927b64277b743746f435d6548",
            "0abd12e828a84bba8eaf1cbed15f4ce0",
            "43a37938eefa45bd82804660f9172f59",
            "80864c59e2d54762908d89d206273485",
            "a88dee73b86f4a42b924a740d4c37263",
            "fcce36fceac34690aab46c2f1066d8dc",
            "174dbd57be48433c99cb7402acfdcb5b",
            "59f188cb9f8d4e34b92329b470e460f4",
            "fa355b3ae8b04cf583a2fff30249cfe7",
            "fc06d281c0974f1fbf38549a098aec1c",
            "73ac0113abe344199f39b488bb2caa25",
            "9abc58422f9a45679d4b84a862194fa1",
            "385ac11ed67348748e68ab6bf74a6b98",
            "28ad7b447c174a1ea6a1f0749645becc",
            "317cb1a3482643c1bcc3e4e71f5b29ea",
            "9cb83b67c3924eeb9891a610a24af936",
            "dd7f7ba126d04bff9b3674e69aada554",
            "b341c07417ef42f08bc8762c561433e6",
            "45a6e2da928d4c88a639409aa743d54e",
            "8c92e43e58914afa915812a7d19a251c",
            "74d15da9fc1c4b9a9289ff6a577bf8b6",
            "d7456ec69e9c43718c572c1ad0cff98e",
            "6c26468176554937938602852884b753",
            "911a306a9f2a4e3fad3cbe7c0d095a59",
            "8f30101f1c1e4a5aa5437dcca1713390",
            "11f071e796ff4a46950330bca682f7ed",
            "6af3ae4124264b239f42723cd15eca49",
            "7e076d237569432e841f3ff61d62db40",
            "3422ea456daa48b8b9c001b18bc1c8e1",
            "ae95ca95b42848a5bdbc8e28b99374d0",
            "3da6d3d347d343cf85a9b0fc906e3792",
            "be3c15de14014903b537bda1836be55b",
            "23e071429c994c9abf65430efdde5b06",
            "8678869107b748049e5d3a079600c909",
            "e26356411ab64f609c7c7c8e59f5f864",
            "b5a8849245064800816fc1bf48c9adda"
          ]
        },
        "id": "OOLvZ1um-nLV",
        "outputId": "a7797c48-c094-4964-c5d4-5e2dd400aa12"
      },
      "outputs": [
        {
          "data": {
            "application/vnd.jupyter.widget-view+json": {
              "model_id": "242d637fb5ab44aab9c3501a5ce71d53",
              "version_major": 2,
              "version_minor": 0
            },
            "text/plain": [
              "Downloading:   0%|          | 0.00/226k [00:00<?, ?B/s]"
            ]
          },
          "metadata": {},
          "output_type": "display_data"
        },
        {
          "data": {
            "application/vnd.jupyter.widget-view+json": {
              "model_id": "2415f82c910d4c2c8317a7cf2cdb3a95",
              "version_major": 2,
              "version_minor": 0
            },
            "text/plain": [
              "Downloading:   0%|          | 0.00/28.0 [00:00<?, ?B/s]"
            ]
          },
          "metadata": {},
          "output_type": "display_data"
        },
        {
          "data": {
            "application/vnd.jupyter.widget-view+json": {
              "model_id": "80864c59e2d54762908d89d206273485",
              "version_major": 2,
              "version_minor": 0
            },
            "text/plain": [
              "Downloading:   0%|          | 0.00/455k [00:00<?, ?B/s]"
            ]
          },
          "metadata": {},
          "output_type": "display_data"
        },
        {
          "data": {
            "application/vnd.jupyter.widget-view+json": {
              "model_id": "317cb1a3482643c1bcc3e4e71f5b29ea",
              "version_major": 2,
              "version_minor": 0
            },
            "text/plain": [
              "Downloading:   0%|          | 0.00/483 [00:00<?, ?B/s]"
            ]
          },
          "metadata": {},
          "output_type": "display_data"
        },
        {
          "data": {
            "application/vnd.jupyter.widget-view+json": {
              "model_id": "11f071e796ff4a46950330bca682f7ed",
              "version_major": 2,
              "version_minor": 0
            },
            "text/plain": [
              "Downloading:   0%|          | 0.00/347M [00:00<?, ?B/s]"
            ]
          },
          "metadata": {},
          "output_type": "display_data"
        },
        {
          "name": "stderr",
          "output_type": "stream",
          "text": [
            "Some layers from the model checkpoint at distilbert-base-uncased were not used when initializing TFDistilBertModel: ['vocab_projector', 'activation_13', 'vocab_layer_norm', 'vocab_transform']\n",
            "- This IS expected if you are initializing TFDistilBertModel from the checkpoint of a model trained on another task or with another architecture (e.g. initializing a BertForSequenceClassification model from a BertForPreTraining model).\n",
            "- This IS NOT expected if you are initializing TFDistilBertModel from the checkpoint of a model that you expect to be exactly identical (initializing a BertForSequenceClassification model from a BertForSequenceClassification model).\n",
            "All the layers of TFDistilBertModel were initialized from the model checkpoint at distilbert-base-uncased.\n",
            "If your task is similar to the task the model of the checkpoint was trained on, you can already use TFDistilBertModel for predictions without further training.\n"
          ]
        }
      ],
      "source": [
        "import tensorflow as tf\n",
        "\n",
        "# Refer: https://huggingface.co/transformers/model_doc/distilbert.html#\n",
        "\n",
        "from transformers import DistilBertTokenizer, TFDistilBertModel\n",
        "# Anything starts with D are pytorch Implementations and anything starts with TF is in TensorFlow generally.\n",
        "\n",
        "distil_bert = 'distilbert-base-uncased' # Name of the pretrained models\n",
        "\n",
        "# DistilBERT \n",
        "\n",
        "tokenizer = DistilBertTokenizer.from_pretrained(distil_bert)\n",
        "model     = TFDistilBertModel.from_pretrained(distil_bert) # we want to write code using TensorFlow."
      ]
    },
    {
      "cell_type": "code",
      "execution_count": null,
      "metadata": {
        "colab": {
          "base_uri": "https://localhost:8080/"
        },
        "id": "LvVJu8eotxQC",
        "outputId": "b7ae268a-d7d3-4c77-cacf-f7cca6dc9ce4"
      },
      "outputs": [
        {
          "name": "stdout",
          "output_type": "stream",
          "text": [
            "[CLS]\n"
          ]
        }
      ],
      "source": [
        "print(tokenizer.cls_token)"
      ]
    },
    {
      "cell_type": "code",
      "execution_count": null,
      "metadata": {
        "colab": {
          "base_uri": "https://localhost:8080/"
        },
        "id": "H58_bbG4uJdM",
        "outputId": "415cf7c0-c799-4913-dd1c-38f832e39261"
      },
      "outputs": [
        {
          "name": "stdout",
          "output_type": "stream",
          "text": [
            "[101, 1045, 2156, 2116, 8870, 1998, 6077, 102] <class 'list'>\n",
            "[CLS] i see many cats and dogs [SEP]\n"
          ]
        }
      ],
      "source": [
        "enc = tokenizer.encode(\"I see many cats and dogs\")\n",
        "print(enc,type(enc))\n",
        "\n",
        "print(tokenizer.decode(enc))"
      ]
    },
    {
      "cell_type": "markdown",
      "metadata": {
        "id": "YIKTHZgYozXV"
      },
      "source": [
        "### Extract features using BERT"
      ]
    },
    {
      "cell_type": "code",
      "execution_count": null,
      "metadata": {
        "colab": {
          "base_uri": "https://localhost:8080/"
        },
        "id": "uGyAieE8JI1F",
        "outputId": "24992ad0-a489-4f56-a082-9b1c464b1475"
      },
      "outputs": [
        {
          "name": "stdout",
          "output_type": "stream",
          "text": [
            "[101, 7592, 1010, 2026, 3899, 2003, 10140, 102]\n",
            "tf.Tensor([[  101  7592  1010  2026  3899  2003 10140   102]], shape=(1, 8), dtype=int32)\n",
            "<class 'tensorflow.python.framework.ops.EagerTensor'>\n",
            "\n",
            " Type of the Output <class 'transformers.modeling_tf_outputs.TFBaseModelOutput'>\n",
            "\n",
            " Length of the Output 2\n",
            "\n",
            " TFBaseModelOutput(last_hidden_state=<tf.Tensor: shape=(1, 8, 768), dtype=float32, numpy=\n",
            "array([[[-1.8296386e-01, -7.4054033e-02,  5.0267726e-02, ...,\n",
            "         -1.1260688e-01,  4.4493079e-01,  4.0941307e-01],\n",
            "        [ 7.0607476e-04,  1.4825349e-01,  3.4328306e-01, ...,\n",
            "         -8.6039692e-02,  6.9474775e-01,  4.3352805e-02],\n",
            "        [-5.0720620e-01,  5.3085524e-01,  3.7162673e-01, ...,\n",
            "         -5.6287491e-01,  1.3755690e-01,  2.8475243e-01],\n",
            "        ...,\n",
            "        [-4.2251337e-01,  5.7314694e-02,  2.4338314e-01, ...,\n",
            "         -1.5222691e-01,  2.4462417e-01,  6.4154840e-01],\n",
            "        [-4.9384442e-01, -1.8895462e-01,  1.2640835e-01, ...,\n",
            "          6.3240513e-02,  3.6912850e-01, -5.8251895e-02],\n",
            "        [ 8.3268648e-01,  2.4948204e-01, -4.5439535e-01, ...,\n",
            "          1.1997566e-01, -3.9257306e-01, -2.7785379e-01]]], dtype=float32)>, hidden_states=(<tf.Tensor: shape=(1, 8, 768), dtype=float32, numpy=\n",
            "array([[[ 0.3469352 , -0.16263762, -0.23334563, ...,  0.14869013,\n",
            "          0.08653456,  0.14215374],\n",
            "        [ 0.07189059, -0.07270843, -0.29645342, ..., -0.30408904,\n",
            "          0.75935036, -0.5568752 ],\n",
            "        [-0.22662726, -0.06833449, -0.02030385, ...,  0.34942177,\n",
            "          0.59173036,  0.19666307],\n",
            "        ...,\n",
            "        [-0.7114571 , -0.565529  , -0.5916915 , ...,  0.3092697 ,\n",
            "          0.4631526 ,  0.66924274],\n",
            "        [-1.672164  , -0.04439694,  0.7265117 , ..., -0.34271553,\n",
            "          0.80091655,  0.01589048],\n",
            "        [-0.2762845 , -0.34943795, -0.18642375, ..., -0.34279847,\n",
            "          0.36574972, -0.1593638 ]]], dtype=float32)>, <tf.Tensor: shape=(1, 8, 768), dtype=float32, numpy=\n",
            "array([[[-0.01307079, -0.04607551,  0.01293398, ...,  0.252757  ,\n",
            "          0.05553707, -0.09864579],\n",
            "        [ 0.3454811 ,  0.42678058,  0.8926455 , ...,  0.15943918,\n",
            "          0.72851306, -0.42441007],\n",
            "        [-0.2435888 ,  0.17839651,  0.01987797, ..., -0.25898343,\n",
            "          0.3918483 , -0.01964281],\n",
            "        ...,\n",
            "        [-0.21568488, -0.6239228 ,  0.09264054, ..., -0.2119195 ,\n",
            "          0.04569693,  0.61585987],\n",
            "        [-0.89834094, -0.5346926 ,  1.626036  , ..., -0.17320192,\n",
            "          0.27655435, -0.58755726],\n",
            "        [-0.2165643 , -0.09481275, -0.11009196, ..., -0.03358367,\n",
            "          0.2822256 , -0.09155286]]], dtype=float32)>, <tf.Tensor: shape=(1, 8, 768), dtype=float32, numpy=\n",
            "array([[[ 0.02833932, -0.39363933,  0.1839716 , ..., -0.175385  ,\n",
            "          0.47826043,  0.15949845],\n",
            "        [ 0.7289437 ,  0.22902456,  0.63798386, ...,  0.17498158,\n",
            "          0.803527  , -0.7345242 ],\n",
            "        [-0.21420056,  0.42475542,  0.19829223, ...,  0.0940305 ,\n",
            "          0.29003215,  0.16439962],\n",
            "        ...,\n",
            "        [-0.00333649, -0.36088943,  0.18938231, ..., -0.33565784,\n",
            "          0.01928183,  0.6864104 ],\n",
            "        [-0.35320723, -0.38713384,  0.9099139 , ..., -0.23697329,\n",
            "          0.0893189 , -0.5806872 ],\n",
            "        [-0.04499644, -0.0638604 ,  0.07283033, ..., -0.04086421,\n",
            "          0.04128025, -0.04075393]]], dtype=float32)>, <tf.Tensor: shape=(1, 8, 768), dtype=float32, numpy=\n",
            "array([[[ 0.10820389, -0.46772188,  0.07244543, ..., -0.41833967,\n",
            "          0.72586834,  0.27548534],\n",
            "        [ 0.715599  ,  0.09426716,  0.46528485, ...,  0.35715327,\n",
            "          0.68009174, -0.60409117],\n",
            "        [ 0.0254159 ,  0.15424898,  0.05820197, ...,  0.13956559,\n",
            "          0.3058711 ,  0.6186198 ],\n",
            "        ...,\n",
            "        [ 0.046371  , -0.48297265,  0.11520552, ..., -0.12803921,\n",
            "         -0.00722513,  0.60834694],\n",
            "        [-0.2661142 , -0.14724943,  0.42182896, ..., -0.17079267,\n",
            "         -0.1172582 , -0.7663708 ],\n",
            "        [-0.01823472, -0.04187581,  0.01764552, ..., -0.0173533 ,\n",
            "         -0.02079394, -0.02067893]]], dtype=float32)>, <tf.Tensor: shape=(1, 8, 768), dtype=float32, numpy=\n",
            "array([[[-0.02228732, -0.5689984 , -0.6709879 , ..., -0.5818513 ,\n",
            "          0.37343812,  0.3012965 ],\n",
            "        [ 0.5939504 ,  0.25538993,  0.79214376, ...,  0.13779834,\n",
            "          0.79666036, -0.5332352 ],\n",
            "        [-0.17370655,  0.3843726 ,  0.37968957, ..., -0.45012444,\n",
            "          0.02721712,  0.33565107],\n",
            "        ...,\n",
            "        [-0.0066019 , -0.20132697,  0.26563853, ...,  0.21002768,\n",
            "          0.17098102,  0.5203529 ],\n",
            "        [-0.41023636, -0.11391631,  0.36256418, ..., -0.04570043,\n",
            "          0.22422092, -0.8310339 ],\n",
            "        [-0.01610123, -0.0122815 ,  0.03791341, ..., -0.05116789,\n",
            "         -0.06002629, -0.02051468]]], dtype=float32)>, <tf.Tensor: shape=(1, 8, 768), dtype=float32, numpy=\n",
            "array([[[-0.00695317, -0.3975133 , -0.07238885, ..., -0.3257925 ,\n",
            "          0.38993073,  0.36298537],\n",
            "        [ 0.3188548 ,  0.252552  ,  0.5179311 , ..., -0.12230989,\n",
            "          0.6224847 , -0.4616471 ],\n",
            "        [-0.6063358 ,  0.1671559 ,  0.40888226, ..., -0.6191886 ,\n",
            "          0.30506372,  0.40506417],\n",
            "        ...,\n",
            "        [-0.11853384,  0.03584973,  0.07931258, ...,  0.17251799,\n",
            "          0.12167235,  0.72704244],\n",
            "        [-0.6839109 ,  0.08479787,  0.07368598, ..., -0.03406509,\n",
            "          0.09101476, -0.41316   ],\n",
            "        [ 0.03534729,  0.02068667, -0.04816948, ..., -0.00281668,\n",
            "          0.00717202, -0.01250403]]], dtype=float32)>, <tf.Tensor: shape=(1, 8, 768), dtype=float32, numpy=\n",
            "array([[[-1.8296386e-01, -7.4054033e-02,  5.0267726e-02, ...,\n",
            "         -1.1260688e-01,  4.4493079e-01,  4.0941307e-01],\n",
            "        [ 7.0607476e-04,  1.4825349e-01,  3.4328306e-01, ...,\n",
            "         -8.6039692e-02,  6.9474775e-01,  4.3352805e-02],\n",
            "        [-5.0720620e-01,  5.3085524e-01,  3.7162673e-01, ...,\n",
            "         -5.6287491e-01,  1.3755690e-01,  2.8475243e-01],\n",
            "        ...,\n",
            "        [-4.2251337e-01,  5.7314694e-02,  2.4338314e-01, ...,\n",
            "         -1.5222691e-01,  2.4462417e-01,  6.4154840e-01],\n",
            "        [-4.9384442e-01, -1.8895462e-01,  1.2640835e-01, ...,\n",
            "          6.3240513e-02,  3.6912850e-01, -5.8251895e-02],\n",
            "        [ 8.3268648e-01,  2.4948204e-01, -4.5439535e-01, ...,\n",
            "          1.1997566e-01, -3.9257306e-01, -2.7785379e-01]]], dtype=float32)>), attentions=None)\n"
          ]
        }
      ],
      "source": [
        "# obtain the 768-dim vector correpsoding to [CLS] which is a sentence vector,watch after 50:00\n",
        "\n",
        "e = tokenizer.encode(\"Hello, my dog is cute\")\n",
        "print(e) # List \n",
        "\n",
        "# Anything that we pass to DL models is in Batches ,so Input that we have till now we are converting it into TF constants\n",
        "input = tf.constant(e)[None, :]  # Batch size 1 \n",
        "# first converting the list into TF constants and on it we are concatenating operation [None,:], where None is batch-size and : means we are \n",
        "                                                                                            # taking all the values of list e.\n",
        "print(input) # Input is TF tensor .[1,8] means we have only one sentence which has 8 tokens.\n",
        "print(type(input)) # shape: [1,8], special tensor called EagerTensor\n",
        "\n",
        "# Eager execution means whatever we pass it will be executed without waiting for the computatinal graph to be built and evaluated.\n",
        "\n",
        "output = model(input)\n",
        "\n",
        "print(\"\\n Type of the Output\",type(output))   # Output is a Tuple ??.\n",
        "print(\"\\n Length of the Output\",len(output))  # There is only one element\n",
        "\n",
        "print(\"\\n\",output) # Th output of Input [1,8] has shape [1,8,768]-- 1 means first sentence of the batch, 8 means number of tokens ,768 means \n",
        "# for every input token we have 768 dimensional vector. "
      ]
    },
    {
      "cell_type": "markdown",
      "metadata": {
        "id": "P4OhrKT2ygUr"
      },
      "source": [
        "* Now we want 768 dimensional vector corresponds to [CLS] refer:- Theory "
      ]
    },
    {
      "cell_type": "code",
      "execution_count": null,
      "metadata": {
        "colab": {
          "base_uri": "https://localhost:8080/"
        },
        "id": "P-Xj5zqr6y0n",
        "outputId": "e042bac0-5b77-4095-fb25-a529a8446ad8"
      },
      "outputs": [
        {
          "data": {
            "text/plain": [
              "TensorShape([1, 8, 768])"
            ]
          },
          "execution_count": 95,
          "metadata": {},
          "output_type": "execute_result"
        }
      ],
      "source": [
        "output[0].shape # Output[0] is the first entry of the returned tuple"
      ]
    },
    {
      "cell_type": "code",
      "execution_count": null,
      "metadata": {
        "colab": {
          "base_uri": "https://localhost:8080/"
        },
        "id": "iESyp-1I9ZHV",
        "outputId": "eb3e25df-8927-4ce3-c3f7-dd0bc298c9f0"
      },
      "outputs": [
        {
          "data": {
            "text/plain": [
              "<tf.Tensor: shape=(1, 8, 768), dtype=float32, numpy=\n",
              "array([[[-1.8296386e-01, -7.4054033e-02,  5.0267726e-02, ...,\n",
              "         -1.1260688e-01,  4.4493079e-01,  4.0941307e-01],\n",
              "        [ 7.0607476e-04,  1.4825349e-01,  3.4328306e-01, ...,\n",
              "         -8.6039692e-02,  6.9474775e-01,  4.3352805e-02],\n",
              "        [-5.0720620e-01,  5.3085524e-01,  3.7162673e-01, ...,\n",
              "         -5.6287491e-01,  1.3755690e-01,  2.8475243e-01],\n",
              "        ...,\n",
              "        [-4.2251337e-01,  5.7314694e-02,  2.4338314e-01, ...,\n",
              "         -1.5222691e-01,  2.4462417e-01,  6.4154840e-01],\n",
              "        [-4.9384442e-01, -1.8895462e-01,  1.2640835e-01, ...,\n",
              "          6.3240513e-02,  3.6912850e-01, -5.8251895e-02],\n",
              "        [ 8.3268648e-01,  2.4948204e-01, -4.5439535e-01, ...,\n",
              "          1.1997566e-01, -3.9257306e-01, -2.7785379e-01]]], dtype=float32)>"
            ]
          },
          "execution_count": 96,
          "metadata": {},
          "output_type": "execute_result"
        }
      ],
      "source": [
        "output[0]"
      ]
    },
    {
      "cell_type": "code",
      "execution_count": null,
      "metadata": {
        "colab": {
          "base_uri": "https://localhost:8080/"
        },
        "id": "ZO0dlA-hMXay",
        "outputId": "1896c524-1920-49b1-f4bc-ee86e8035534"
      },
      "outputs": [
        {
          "name": "stdout",
          "output_type": "stream",
          "text": [
            "tf.Tensor(\n",
            "[-1.82963863e-01 -7.40540326e-02  5.02677262e-02 -3.49530488e-01\n",
            " -7.28532374e-02 -2.63872653e-01  2.39293322e-01  4.79842007e-01\n",
            " -2.14802459e-01 -1.89516261e-01  8.99826735e-02 -1.29189000e-01\n",
            " -1.11275926e-01  3.16634446e-01 -8.25904980e-02  9.26226079e-02\n",
            " -2.09083185e-02  4.74876046e-01  1.28833592e-01  3.18717025e-03\n",
            " -1.53505713e-01 -3.57001752e-01  9.89284366e-04 -3.92748881e-03\n",
            "  1.38443913e-02 -5.49409837e-02  8.45261812e-02  1.36564448e-01\n",
            "  2.18252301e-01 -1.96798846e-01  2.47994587e-02  1.75569281e-01\n",
            " -3.97216901e-02 -1.10777110e-01  5.48525862e-02  6.07531480e-02\n",
            "  1.71999596e-02 -1.07415289e-01 -8.76946598e-02  2.12042004e-01\n",
            " -4.05892953e-02 -3.17959487e-02  1.37656942e-01 -1.39004648e-01\n",
            " -4.68861684e-03 -3.97633225e-01 -2.60034585e+00 -1.08741723e-01\n",
            "  4.86708432e-02 -3.61387491e-01  3.71814519e-01 -7.61094987e-02\n",
            "  3.23910490e-02  2.31666192e-01  2.63016075e-01  3.18299681e-01\n",
            " -3.87970477e-01  2.98111022e-01 -4.93029654e-02 -3.59301642e-02\n",
            "  1.58540696e-01  6.64179772e-02 -1.98168188e-01  2.01572161e-02\n",
            " -3.06719422e-01  2.75268465e-01 -5.75724989e-02  1.99012339e-01\n",
            " -1.81322396e-01  5.15817165e-01 -2.86956951e-02 -1.18355766e-01\n",
            "  1.32884309e-01 -7.50624686e-02  1.13557003e-01 -4.68250960e-02\n",
            "  1.44347250e-02  2.31869698e-01 -1.80278242e-01  2.84714997e-01\n",
            " -1.01262681e-01  2.02373430e-01  4.91598189e-01  2.72795558e-01\n",
            "  4.77179661e-02  1.66064367e-01 -2.38973752e-01 -9.58862305e-02\n",
            "  2.39367768e-01  3.80263776e-01 -2.34181359e-01 -1.66364864e-01\n",
            " -4.13462818e-02  2.57076085e-01  4.31303471e-01 -3.15999329e-01\n",
            " -7.02399462e-02  1.14386380e-01  2.16973335e-01  1.96187213e-01\n",
            "  8.51509124e-02 -1.42221361e-01  2.56942630e-01 -2.17944562e-01\n",
            " -6.99561089e-03 -2.12191418e-01  1.43578440e-01 -4.75275218e-01\n",
            "  5.17553054e-02 -2.40377712e+00  2.53657371e-01  9.18114781e-02\n",
            " -9.21669751e-02 -4.41745669e-01 -5.84071875e-02  6.90732121e-01\n",
            "  4.17964369e-01 -8.59401003e-03 -1.34421706e-01  5.17781414e-02\n",
            " -1.08743995e-01  8.65203366e-02 -1.71956681e-02 -3.32326472e-01\n",
            "  1.51767030e-01  3.29324692e-01 -6.66764230e-02 -9.02031884e-02\n",
            "  2.35938698e-01  2.36410812e-01  3.33305359e-01  4.67729688e-01\n",
            "  4.28325199e-02 -1.42506301e-01 -1.08116351e-01  2.27771237e-01\n",
            "  2.94073552e-01 -1.39985114e-01 -1.00884713e-01 -4.09682095e-03\n",
            " -2.31504768e-01  1.21926427e-01 -2.90576911e+00  2.96339780e-01\n",
            "  4.99315381e-01  6.20901138e-02 -2.88698912e-01  5.02858050e-02\n",
            "  5.06081432e-03  1.55305773e-01  7.64144063e-02  1.15471229e-01\n",
            " -2.38395333e-01  4.13821600e-02 -3.14426482e-01  4.59133461e-02\n",
            " -3.75107020e-01  5.39004877e-02  2.24994659e-01  2.77922690e-01\n",
            "  1.78462267e-01 -9.54105929e-02 -1.94172993e-01  6.76061884e-02\n",
            " -1.60752207e-01  2.29953900e-01  5.06648362e-01  7.67757520e-02\n",
            "  4.87565771e-02  4.56532165e-02 -3.77923399e-02  3.41985449e-02\n",
            "  4.74492371e-01  2.37051826e-02  2.66929597e-01 -5.50255701e-02\n",
            "  3.91381949e-01  8.17275941e-02 -1.15859278e-01 -1.70160681e-01\n",
            " -5.73055744e-02  1.40598863e-01  1.23220891e-01  1.65379673e-01\n",
            "  9.10500810e-02 -1.43807027e-02  3.66103500e-01 -1.63923755e-01\n",
            " -8.08838606e-02  2.59248018e-01  2.10393853e-02 -2.05531687e-01\n",
            "  1.09672822e-01  1.14643998e-01  3.32335740e-01  7.59402215e-02\n",
            "  1.22674592e-01 -5.73982120e-01  1.60009503e-01  6.82828799e-02\n",
            " -1.73094153e-01 -1.99944198e-01  1.59826517e-01  2.52872109e-01\n",
            " -1.70128942e-01  3.64887619e+00 -1.38967603e-01  3.33110243e-02\n",
            "  1.82072610e-01  2.70485848e-01 -1.21637821e-01  1.05418183e-01\n",
            "  1.55241787e-03 -1.30045684e-02  3.18016373e-02  5.77495024e-02\n",
            "  3.96896422e-01 -6.14843741e-02 -1.15159854e-01 -1.08272582e-01\n",
            "  2.36324202e-02  1.32242367e-01 -3.08492541e-01  1.41128540e-01\n",
            "  1.90406851e-02  1.97923645e-01  2.07062453e-01  2.50906765e-01\n",
            "  5.68701029e-02 -1.19319940e+00  9.20887738e-02 -2.82066941e-01\n",
            " -2.16926951e-02  2.61802912e-01 -3.48175496e-01  1.96769331e-02\n",
            "  1.83203653e-01 -1.95327297e-01  2.11400151e-01  8.50236714e-02\n",
            " -1.28696814e-01  3.18605453e-01  2.86378473e-01  1.88539937e-01\n",
            " -2.98403859e-01  2.20937416e-01  1.31015390e-01 -1.02819428e-02\n",
            " -2.68580988e-02 -8.13292637e-02  2.68621117e-01 -1.62331522e-01\n",
            "  1.27714396e-01 -2.98873574e-01  7.01926649e-02 -4.89651151e-02\n",
            "  3.95200439e-02  2.76600450e-01 -3.53134304e-01 -2.21711591e-01\n",
            " -1.68480113e-01 -1.10793605e-01  2.35944599e-01  4.53584865e-02\n",
            " -4.02560562e-01  4.27888706e-02  7.54593760e-02 -2.55471230e-01\n",
            "  9.60167497e-02 -1.43930927e-01 -8.94934088e-02 -7.46149793e-02\n",
            " -3.30272377e-01 -3.46625066e+00  1.24226920e-02 -1.36048794e-01\n",
            "  3.26259941e-01  2.83859253e-01 -2.74549108e-02 -1.36380613e-01\n",
            "  1.31227896e-01  3.47973377e-01 -6.24993265e-01  3.13479990e-01\n",
            "  1.04717776e-01 -6.62787035e-02  1.48699179e-01 -3.66201639e-01\n",
            "  1.69892475e-01  1.43030491e-02 -1.90093577e-01 -5.20563796e-02\n",
            " -1.67159125e-01  8.08380321e-02  1.35975808e-01 -1.30081579e-01\n",
            "  3.54058862e-01  3.65888700e-02 -3.24269682e-02 -1.42222673e-01\n",
            " -1.36649787e-01 -6.62393495e-02 -4.30209078e-02 -1.54817272e-02\n",
            " -2.47256681e-01  2.64774621e-01 -1.90627545e-01 -5.61647654e-01\n",
            " -2.63370347e+00 -6.13705814e-02  7.83851091e-03 -2.00945258e-01\n",
            "  5.77972345e-02 -7.98273161e-02  3.88861001e-01 -1.92673951e-01\n",
            " -1.52788013e-01  2.18081951e-01  1.38541773e-01  5.15477210e-02\n",
            "  5.93838207e-02 -3.63189951e-02  2.52486050e-01 -1.68904454e-01\n",
            "  3.03935856e-01 -2.93073773e-01  9.53444391e-02  2.13944212e-01\n",
            "  7.78932273e-02  6.87416941e-02 -4.60772589e-02 -4.81728092e-02\n",
            "  1.31043613e-01  4.89196748e-01 -2.47310862e-01 -1.25176728e-01\n",
            " -2.68888950e-01  1.69904307e-02  3.04140188e-02 -2.75137544e-01\n",
            "  9.71507728e-02 -5.26915267e-02 -2.99963474e-01 -1.53513998e-01\n",
            "  1.30863488e-01  1.34220332e-01  3.82058501e-01  8.38406235e-02\n",
            "  6.31513596e-02  4.47510988e-01  1.67282760e-01 -7.88344443e-03\n",
            "  4.77932483e-01  8.44853520e-02 -3.11316811e-02 -2.30320036e-01\n",
            " -7.93986320e-02  1.05453506e-01 -6.53301179e-02  1.43372759e-01\n",
            "  1.18262112e+00 -4.21138257e-02  3.34063858e-01 -7.57570937e-02\n",
            "  3.29937726e-01  9.94219631e-02  6.47705644e-02  4.58281487e-03\n",
            "  4.66040552e-01 -5.74504063e-02  8.35537091e-02 -7.57397562e-02\n",
            "  2.60545686e-02 -3.39902341e-01  2.42828764e-02 -4.51531917e-01\n",
            " -1.08395621e-01  1.43879384e-01 -6.19176775e-04  2.22206227e-02\n",
            " -1.85182154e-01 -9.67315614e-01 -2.76358008e-01  2.32633889e-01\n",
            " -2.04712257e-01 -8.55462104e-02 -1.02017835e-01  3.67730558e-02\n",
            " -2.87895799e-01 -2.69007385e-01 -6.31037802e-02  4.66198504e-01\n",
            " -4.17007357e-01 -1.28478557e-01 -2.35913604e-01 -6.02072105e-02\n",
            " -3.66598904e-01  3.29858400e-02 -1.72639847e-01  1.16484225e-01\n",
            " -5.45547828e-02  2.00879589e-01  8.09610710e-02  6.14780746e-02\n",
            "  2.20724970e-01 -7.03783870e-01  1.63218319e-01 -2.42775843e-01\n",
            "  2.94259265e-02 -3.64927910e-02 -1.15544349e-01  1.19456649e-01\n",
            " -2.35309545e-02 -8.58264491e-02 -2.42628872e-01  3.13685626e-01\n",
            "  5.36965877e-02  2.81631291e-01 -1.55662388e-01 -3.08807701e-01\n",
            " -1.67348370e-01  1.49587303e-01  1.02405632e+00 -5.33011183e-02\n",
            "  2.61226464e-02  4.29241419e-01 -1.19603425e-02  3.26767355e-01\n",
            "  2.23125279e-01  1.57707870e-01 -2.33969763e-01 -3.87821831e-02\n",
            " -8.93775821e-02 -8.95164832e-02 -1.58061832e-02 -2.76408643e-01\n",
            " -2.30500355e-01  5.20574562e-02  2.42815435e-01 -1.51056610e-03\n",
            " -3.67174238e-01 -5.44695020e-01  1.83678940e-01 -2.98035502e-01\n",
            " -3.45235407e-01 -1.07845806e-01  3.23618740e-01  3.10015716e-02\n",
            "  1.72840580e-01  1.98269740e-01 -1.32516295e-01  3.18925411e-01\n",
            " -1.70470297e-01  4.16734755e-01 -1.78098641e-02 -5.34224249e-02\n",
            " -2.10132524e-02  1.33843869e-01 -1.26934558e-01 -3.35949242e-01\n",
            "  6.02969453e-02 -3.20586085e-01  2.28375420e-01  1.57170445e-01\n",
            "  1.07503325e-01  4.52578664e-02 -1.44067913e-01  1.25556856e-01\n",
            "  1.17120191e-01  3.68679427e-02 -1.44092906e+00  4.55319673e-01\n",
            "  2.65805982e-03  6.85982257e-02  1.79716557e-01 -5.60319833e-02\n",
            " -6.82102591e-02  2.66576678e-01  2.44327366e-01  1.17831677e-01\n",
            " -7.86479563e-02  1.50259629e-01 -1.98004559e-01  2.23430097e-02\n",
            "  5.40102273e-02 -6.52764961e-02  8.17407221e-02 -1.52527541e-01\n",
            " -2.41479352e-02 -3.05541530e-02  1.89114176e-02  3.25063080e-01\n",
            "  1.07241616e-01  2.36949399e-02  5.40227853e-02 -6.59271777e-02\n",
            "  1.45881996e-01  1.73729777e-01  3.97376940e-02  3.04216594e-01\n",
            "  2.57305745e-02 -2.33873680e-01 -7.23413408e-01 -2.36845493e-01\n",
            "  2.15696633e-01 -9.78178084e-02 -1.07705668e-02 -5.42444512e-02\n",
            "  1.60678849e-02  1.34032130e-01 -4.90797937e-01  2.40850925e-01\n",
            "  1.25754714e-01 -1.04106799e-01  5.20355642e-01  1.66526496e-01\n",
            " -1.65266261e-01  2.95299202e-01  1.62014700e-02 -2.91152984e-01\n",
            "  1.46822542e-01 -1.80529833e-01 -3.49397808e-02 -1.96046531e-01\n",
            " -7.66403973e-05 -1.21094599e-01 -8.96758288e-02  5.56596667e-02\n",
            " -3.61945719e-01 -1.90507323e-02  3.58558089e-01 -2.30404109e-01\n",
            " -3.64994109e-01  8.36467594e-02 -3.69088084e-01 -4.55816537e-01\n",
            " -2.51596242e-01 -2.95682371e-01  6.57207742e-02 -9.50318128e-02\n",
            "  4.98333067e-01  1.02289662e-01 -2.63921052e-01  2.01748610e-01\n",
            " -2.99779534e-01  1.08137131e-01  7.19922334e-02  3.94287705e-01\n",
            "  3.48317266e-01 -1.83384508e-01  1.04481354e-01 -3.31908375e-01\n",
            " -3.20174098e-01  3.27167839e-01 -1.68593362e-01  1.33825943e-01\n",
            " -2.06089690e-02  6.99826777e-02 -2.75659859e-02  1.54763788e-01\n",
            " -1.75365418e-01 -1.56792253e-01 -4.90043387e-02 -5.61797619e-02\n",
            " -2.34199926e-01  2.16859162e-01  5.50555885e-02 -1.01618543e-01\n",
            " -1.43520191e-01 -1.09908164e-01 -1.85715526e-01  4.40243423e-01\n",
            "  2.83944756e-01  1.27737537e-01  3.48631591e-02  1.28400236e-01\n",
            "  1.25560060e-01  1.79128468e-01 -3.51551861e-01 -1.79564357e-01\n",
            "  1.27473161e-01 -5.33759966e-02 -6.86721355e-02  9.85231530e-03\n",
            "  6.14890717e-02 -1.57977626e-01 -2.51014709e-01 -2.38530457e-01\n",
            "  1.99463761e+00  5.30797541e-01 -3.62982675e-02 -1.19774476e-01\n",
            "  3.54485154e-01 -1.36348218e-01 -1.06468201e-01  1.90662190e-01\n",
            " -1.81350648e-01  4.38782722e-01 -1.52346909e-01  2.97309875e-01\n",
            "  4.85183671e-03  1.84560552e-01  5.39813936e-01  2.61829048e-01\n",
            "  2.01008156e-01 -7.66813904e-02 -6.73805118e-01 -1.22319505e-01\n",
            " -3.35514694e-01  1.67748302e-01  3.59637111e-01 -1.95419639e-02\n",
            " -8.59108120e-02  1.83776975e-01  8.31621736e-02 -2.20171139e-02\n",
            " -1.09846234e-01  3.16786379e-01 -1.39384851e-01 -2.47807857e-02\n",
            "  1.76724166e-01  3.52304727e-01 -1.92155153e-01  1.35768294e-01\n",
            "  1.40878558e-01 -3.26478034e-01 -3.32516938e-01  2.78262198e-02\n",
            "  6.72171265e-02 -4.32631850e-01  2.43450433e-01  1.65119544e-01\n",
            " -1.40644491e-01  4.77837592e-01 -1.96697846e-01 -1.46622881e-01\n",
            "  4.71871436e-01  3.83241326e-01 -2.47310683e-01 -1.77689284e-01\n",
            " -2.20501259e-01  2.84740210e-01  5.84800169e-02 -3.75216641e-02\n",
            " -1.52472686e-02 -1.88273028e-01 -8.67711753e-02  2.55617082e-01\n",
            " -2.63450801e-01  2.89569885e-01  1.39412314e-01  7.61567950e-02\n",
            "  3.36094707e-01  6.99163154e-02 -3.14997405e-01  1.18950725e-01\n",
            "  2.26661190e-01 -3.60732883e-01 -5.41429967e-04  5.06484210e-01\n",
            "  2.20257655e-01  4.64702845e-02  1.89109504e-01  8.76347721e-02\n",
            "  2.78846174e-01 -1.29932135e-01 -1.64784372e-01 -2.74102378e+00\n",
            "  1.67532563e-02  1.83713362e-02  6.84271306e-02  1.71559021e-01\n",
            "  3.03114712e-01  3.01917821e-01  4.01071720e-02  2.54131854e-01\n",
            " -3.53493690e-02  2.71484017e-01  1.81621775e-01  4.48273122e-01\n",
            "  3.20000835e-02  4.39896971e-01 -5.78282662e-02  3.16759795e-01\n",
            " -1.94126174e-01 -2.04067156e-01 -4.19519208e-02 -2.94576064e-02\n",
            "  8.93060714e-02  2.27591306e-01 -3.44704837e-01 -4.46880966e-01\n",
            "  1.86223984e-01 -1.47318810e-01 -2.28073820e-01 -9.07056406e-02\n",
            "  1.94503814e-02 -1.23446062e-01  4.36208367e-01 -3.18929553e-01\n",
            " -1.00711100e-02 -4.69478294e-02 -7.06075728e-02 -2.75076419e-01\n",
            " -1.39117613e-02  1.31018758e-01  2.14772910e-01 -1.57196119e-01\n",
            "  5.24373710e-01  3.01660504e-03  2.12966934e-01  5.55386534e-03\n",
            "  4.07890081e-02  2.34339088e-01 -6.88108802e-02  2.27949098e-01\n",
            " -1.57655507e-01 -7.67240375e-02  6.78142458e-02  3.18949223e-01\n",
            "  1.98623106e-01  8.13001841e-02  1.77703798e-01 -3.74072045e-03\n",
            " -5.91538288e-03 -1.41101331e-02 -5.09403884e-01 -1.06276959e-01\n",
            "  2.34553903e-01 -1.86713971e-02  1.10224120e-01  2.10317954e-01\n",
            " -7.98710734e-02 -8.10481310e-02  3.20945308e-03 -1.42225534e-01\n",
            " -2.60842144e-01 -3.67441863e-01 -1.90868936e-02  4.14406240e-01\n",
            "  1.01791620e-01  1.76625140e-02 -9.82004702e-02  4.08166140e-01\n",
            "  2.69282997e-01  2.51791216e-02  3.05708438e-01 -1.29841506e-01\n",
            "  3.09772417e-03 -2.47815792e-02 -1.44121945e-01  1.71705335e-01\n",
            " -7.39391756e+00 -8.13183263e-02  2.41189674e-02 -2.42936060e-01\n",
            " -2.46015593e-01 -4.92817611e-01 -1.13992244e-01 -3.30207944e-01\n",
            "  1.46628976e-01 -1.87319219e-01  2.01923341e-01 -4.60677892e-02\n",
            " -2.09270731e-01 -1.12606883e-01  4.44930792e-01  4.09413069e-01], shape=(768,), dtype=float32)\n"
          ]
        }
      ],
      "source": [
        "# [CLS] corresponding vector\n",
        "print((output[0])[0,0,:])  # shape: 768 dim vector,we want from 0th sentence the 0th word[0th word is [cls]] and \n",
        "#                                                                                 : all of the sentences. Output shape = tuple([1,8,768],array)\n",
        "# we know [CLS] is always the First Token of the Input .\n",
        "# since Tensor hence 3-D"
      ]
    },
    {
      "cell_type": "markdown",
      "metadata": {
        "id": "zRxYSiqWzlH5"
      },
      "source": [
        "* This is all good , getting the feature vector representation at the end of all the Encoders, but how about if we want the representation after any Encoder layer that we like.\n",
        "\n",
        "* output from last four Hidden layer outperformed all others if you can recall."
      ]
    },
    {
      "cell_type": "code",
      "execution_count": null,
      "metadata": {
        "colab": {
          "base_uri": "https://localhost:8080/"
        },
        "id": "kQTWhdSoOJMH",
        "outputId": "70a8bf7c-a44f-4561-910e-f6912dd21f73"
      },
      "outputs": [
        {
          "name": "stderr",
          "output_type": "stream",
          "text": [
            "Some layers from the model checkpoint at distilbert-base-uncased were not used when initializing TFDistilBertModel: ['activation_13', 'vocab_layer_norm', 'vocab_transform', 'vocab_projector']\n",
            "- This IS expected if you are initializing TFDistilBertModel from the checkpoint of a model trained on another task or with another architecture (e.g. initializing a BertForSequenceClassification model from a BertForPreTraining model).\n",
            "- This IS NOT expected if you are initializing TFDistilBertModel from the checkpoint of a model that you expect to be exactly identical (initializing a BertForSequenceClassification model from a BertForSequenceClassification model).\n",
            "All the layers of TFDistilBertModel were initialized from the model checkpoint at distilbert-base-uncased.\n",
            "If your task is similar to the task the model of the checkpoint was trained on, you can already use TFDistilBertModel for predictions without further training.\n"
          ]
        },
        {
          "name": "stdout",
          "output_type": "stream",
          "text": [
            "DistilBertConfig {\n",
            "  \"_name_or_path\": \"distilbert-base-uncased\",\n",
            "  \"activation\": \"gelu\",\n",
            "  \"architectures\": [\n",
            "    \"DistilBertForMaskedLM\"\n",
            "  ],\n",
            "  \"attention_dropout\": 0.1,\n",
            "  \"dim\": 768,\n",
            "  \"dropout\": 0.1,\n",
            "  \"hidden_dim\": 3072,\n",
            "  \"initializer_range\": 0.02,\n",
            "  \"max_position_embeddings\": 512,\n",
            "  \"model_type\": \"distilbert\",\n",
            "  \"n_heads\": 12,\n",
            "  \"n_layers\": 6,\n",
            "  \"output_hidden_states\": true,\n",
            "  \"pad_token_id\": 0,\n",
            "  \"qa_dropout\": 0.1,\n",
            "  \"seq_classif_dropout\": 0.2,\n",
            "  \"sinusoidal_pos_embds\": false,\n",
            "  \"tie_weights_\": true,\n",
            "  \"transformers_version\": \"4.15.0\",\n",
            "  \"vocab_size\": 30522\n",
            "}\n",
            "\n"
          ]
        }
      ],
      "source": [
        "# How about hidden layer outputs\n",
        "\n",
        "#https://huggingface.co/transformers/model_doc/distilbert.html#distilbertconfig\n",
        "\n",
        "from transformers import  DistilBertConfig # Every Model in HuggingFace has config ,It tells us what we want the model to be.\n",
        "\n",
        "config = DistilBertConfig.from_pretrained(distil_bert, output_hidden_states = True)\n",
        "\n",
        "\n",
        "e     = tokenizer.encode(\"Hello, my dog is cute\")\n",
        "input = tf.constant(e)[None, :]  # Batch size 1 \n",
        "model = TFDistilBertModel.from_pretrained(distil_bert, config = config)\n",
        "\n",
        "print(model.config) # Every model has a config file "
      ]
    },
    {
      "cell_type": "code",
      "execution_count": null,
      "metadata": {
        "colab": {
          "base_uri": "https://localhost:8080/"
        },
        "id": "36Ot-PcHQLsA",
        "outputId": "6f9b0027-263d-4e4e-aea1-58f721a9dda9"
      },
      "outputs": [
        {
          "name": "stdout",
          "output_type": "stream",
          "text": [
            "2\n"
          ]
        }
      ],
      "source": [
        "output = model(input) # Will return a tuple ??\n",
        "print(len(output))"
      ]
    },
    {
      "cell_type": "code",
      "execution_count": null,
      "metadata": {
        "colab": {
          "base_uri": "https://localhost:8080/"
        },
        "id": "pASiyZio8_f-",
        "outputId": "baade062-c6a1-4d90-b042-3e2ac1561fa2"
      },
      "outputs": [
        {
          "name": "stdout",
          "output_type": "stream",
          "text": [
            "TFBaseModelOutput(last_hidden_state=<tf.Tensor: shape=(1, 8, 768), dtype=float32, numpy=\n",
            "array([[[-1.8296386e-01, -7.4054033e-02,  5.0267726e-02, ...,\n",
            "         -1.1260688e-01,  4.4493079e-01,  4.0941307e-01],\n",
            "        [ 7.0607476e-04,  1.4825349e-01,  3.4328306e-01, ...,\n",
            "         -8.6039692e-02,  6.9474775e-01,  4.3352805e-02],\n",
            "        [-5.0720620e-01,  5.3085524e-01,  3.7162673e-01, ...,\n",
            "         -5.6287491e-01,  1.3755690e-01,  2.8475243e-01],\n",
            "        ...,\n",
            "        [-4.2251337e-01,  5.7314694e-02,  2.4338314e-01, ...,\n",
            "         -1.5222691e-01,  2.4462417e-01,  6.4154840e-01],\n",
            "        [-4.9384442e-01, -1.8895462e-01,  1.2640835e-01, ...,\n",
            "          6.3240513e-02,  3.6912850e-01, -5.8251895e-02],\n",
            "        [ 8.3268648e-01,  2.4948204e-01, -4.5439535e-01, ...,\n",
            "          1.1997566e-01, -3.9257306e-01, -2.7785379e-01]]], dtype=float32)>, hidden_states=(<tf.Tensor: shape=(1, 8, 768), dtype=float32, numpy=\n",
            "array([[[ 0.3469352 , -0.16263762, -0.23334563, ...,  0.14869013,\n",
            "          0.08653456,  0.14215374],\n",
            "        [ 0.07189059, -0.07270843, -0.29645342, ..., -0.30408904,\n",
            "          0.75935036, -0.5568752 ],\n",
            "        [-0.22662726, -0.06833449, -0.02030385, ...,  0.34942177,\n",
            "          0.59173036,  0.19666307],\n",
            "        ...,\n",
            "        [-0.7114571 , -0.565529  , -0.5916915 , ...,  0.3092697 ,\n",
            "          0.4631526 ,  0.66924274],\n",
            "        [-1.672164  , -0.04439694,  0.7265117 , ..., -0.34271553,\n",
            "          0.80091655,  0.01589048],\n",
            "        [-0.2762845 , -0.34943795, -0.18642375, ..., -0.34279847,\n",
            "          0.36574972, -0.1593638 ]]], dtype=float32)>, <tf.Tensor: shape=(1, 8, 768), dtype=float32, numpy=\n",
            "array([[[-0.01307079, -0.04607551,  0.01293398, ...,  0.252757  ,\n",
            "          0.05553707, -0.09864579],\n",
            "        [ 0.3454811 ,  0.42678058,  0.8926455 , ...,  0.15943918,\n",
            "          0.72851306, -0.42441007],\n",
            "        [-0.2435888 ,  0.17839651,  0.01987797, ..., -0.25898343,\n",
            "          0.3918483 , -0.01964281],\n",
            "        ...,\n",
            "        [-0.21568488, -0.6239228 ,  0.09264054, ..., -0.2119195 ,\n",
            "          0.04569693,  0.61585987],\n",
            "        [-0.89834094, -0.5346926 ,  1.626036  , ..., -0.17320192,\n",
            "          0.27655435, -0.58755726],\n",
            "        [-0.2165643 , -0.09481275, -0.11009196, ..., -0.03358367,\n",
            "          0.2822256 , -0.09155286]]], dtype=float32)>, <tf.Tensor: shape=(1, 8, 768), dtype=float32, numpy=\n",
            "array([[[ 0.02833932, -0.39363933,  0.1839716 , ..., -0.175385  ,\n",
            "          0.47826043,  0.15949845],\n",
            "        [ 0.7289437 ,  0.22902456,  0.63798386, ...,  0.17498158,\n",
            "          0.803527  , -0.7345242 ],\n",
            "        [-0.21420056,  0.42475542,  0.19829223, ...,  0.0940305 ,\n",
            "          0.29003215,  0.16439962],\n",
            "        ...,\n",
            "        [-0.00333649, -0.36088943,  0.18938231, ..., -0.33565784,\n",
            "          0.01928183,  0.6864104 ],\n",
            "        [-0.35320723, -0.38713384,  0.9099139 , ..., -0.23697329,\n",
            "          0.0893189 , -0.5806872 ],\n",
            "        [-0.04499644, -0.0638604 ,  0.07283033, ..., -0.04086421,\n",
            "          0.04128025, -0.04075393]]], dtype=float32)>, <tf.Tensor: shape=(1, 8, 768), dtype=float32, numpy=\n",
            "array([[[ 0.10820389, -0.46772188,  0.07244543, ..., -0.41833967,\n",
            "          0.72586834,  0.27548534],\n",
            "        [ 0.715599  ,  0.09426716,  0.46528485, ...,  0.35715327,\n",
            "          0.68009174, -0.60409117],\n",
            "        [ 0.0254159 ,  0.15424898,  0.05820197, ...,  0.13956559,\n",
            "          0.3058711 ,  0.6186198 ],\n",
            "        ...,\n",
            "        [ 0.046371  , -0.48297265,  0.11520552, ..., -0.12803921,\n",
            "         -0.00722513,  0.60834694],\n",
            "        [-0.2661142 , -0.14724943,  0.42182896, ..., -0.17079267,\n",
            "         -0.1172582 , -0.7663708 ],\n",
            "        [-0.01823472, -0.04187581,  0.01764552, ..., -0.0173533 ,\n",
            "         -0.02079394, -0.02067893]]], dtype=float32)>, <tf.Tensor: shape=(1, 8, 768), dtype=float32, numpy=\n",
            "array([[[-0.02228732, -0.5689984 , -0.6709879 , ..., -0.5818513 ,\n",
            "          0.37343812,  0.3012965 ],\n",
            "        [ 0.5939504 ,  0.25538993,  0.79214376, ...,  0.13779834,\n",
            "          0.79666036, -0.5332352 ],\n",
            "        [-0.17370655,  0.3843726 ,  0.37968957, ..., -0.45012444,\n",
            "          0.02721712,  0.33565107],\n",
            "        ...,\n",
            "        [-0.0066019 , -0.20132697,  0.26563853, ...,  0.21002768,\n",
            "          0.17098102,  0.5203529 ],\n",
            "        [-0.41023636, -0.11391631,  0.36256418, ..., -0.04570043,\n",
            "          0.22422092, -0.8310339 ],\n",
            "        [-0.01610123, -0.0122815 ,  0.03791341, ..., -0.05116789,\n",
            "         -0.06002629, -0.02051468]]], dtype=float32)>, <tf.Tensor: shape=(1, 8, 768), dtype=float32, numpy=\n",
            "array([[[-0.00695317, -0.3975133 , -0.07238885, ..., -0.3257925 ,\n",
            "          0.38993073,  0.36298537],\n",
            "        [ 0.3188548 ,  0.252552  ,  0.5179311 , ..., -0.12230989,\n",
            "          0.6224847 , -0.4616471 ],\n",
            "        [-0.6063358 ,  0.1671559 ,  0.40888226, ..., -0.6191886 ,\n",
            "          0.30506372,  0.40506417],\n",
            "        ...,\n",
            "        [-0.11853384,  0.03584973,  0.07931258, ...,  0.17251799,\n",
            "          0.12167235,  0.72704244],\n",
            "        [-0.6839109 ,  0.08479787,  0.07368598, ..., -0.03406509,\n",
            "          0.09101476, -0.41316   ],\n",
            "        [ 0.03534729,  0.02068667, -0.04816948, ..., -0.00281668,\n",
            "          0.00717202, -0.01250403]]], dtype=float32)>, <tf.Tensor: shape=(1, 8, 768), dtype=float32, numpy=\n",
            "array([[[-1.8296386e-01, -7.4054033e-02,  5.0267726e-02, ...,\n",
            "         -1.1260688e-01,  4.4493079e-01,  4.0941307e-01],\n",
            "        [ 7.0607476e-04,  1.4825349e-01,  3.4328306e-01, ...,\n",
            "         -8.6039692e-02,  6.9474775e-01,  4.3352805e-02],\n",
            "        [-5.0720620e-01,  5.3085524e-01,  3.7162673e-01, ...,\n",
            "         -5.6287491e-01,  1.3755690e-01,  2.8475243e-01],\n",
            "        ...,\n",
            "        [-4.2251337e-01,  5.7314694e-02,  2.4338314e-01, ...,\n",
            "         -1.5222691e-01,  2.4462417e-01,  6.4154840e-01],\n",
            "        [-4.9384442e-01, -1.8895462e-01,  1.2640835e-01, ...,\n",
            "          6.3240513e-02,  3.6912850e-01, -5.8251895e-02],\n",
            "        [ 8.3268648e-01,  2.4948204e-01, -4.5439535e-01, ...,\n",
            "          1.1997566e-01, -3.9257306e-01, -2.7785379e-01]]], dtype=float32)>), attentions=None)\n"
          ]
        }
      ],
      "source": [
        "print(output)"
      ]
    },
    {
      "cell_type": "code",
      "execution_count": null,
      "metadata": {
        "colab": {
          "base_uri": "https://localhost:8080/"
        },
        "id": "m20ikTgZRhgx",
        "outputId": "7e0f7fbb-0151-4475-b798-3e910faddeab"
      },
      "outputs": [
        {
          "name": "stdout",
          "output_type": "stream",
          "text": [
            "tf.Tensor(\n",
            "[[[-1.8296386e-01 -7.4054033e-02  5.0267726e-02 ... -1.1260688e-01\n",
            "    4.4493079e-01  4.0941307e-01]\n",
            "  [ 7.0607476e-04  1.4825349e-01  3.4328306e-01 ... -8.6039692e-02\n",
            "    6.9474775e-01  4.3352805e-02]\n",
            "  [-5.0720620e-01  5.3085524e-01  3.7162673e-01 ... -5.6287491e-01\n",
            "    1.3755690e-01  2.8475243e-01]\n",
            "  ...\n",
            "  [-4.2251337e-01  5.7314694e-02  2.4338314e-01 ... -1.5222691e-01\n",
            "    2.4462417e-01  6.4154840e-01]\n",
            "  [-4.9384442e-01 -1.8895462e-01  1.2640835e-01 ...  6.3240513e-02\n",
            "    3.6912850e-01 -5.8251895e-02]\n",
            "  [ 8.3268648e-01  2.4948204e-01 -4.5439535e-01 ...  1.1997566e-01\n",
            "   -3.9257306e-01 -2.7785379e-01]]], shape=(1, 8, 768), dtype=float32)\n"
          ]
        }
      ],
      "source": [
        "print(output[0]) # It is a Tensor ."
      ]
    },
    {
      "cell_type": "code",
      "execution_count": null,
      "metadata": {
        "colab": {
          "base_uri": "https://localhost:8080/"
        },
        "id": "i46_6ipxZ7lw",
        "outputId": "a13fba9c-69f2-421a-df70-d2ca394ef4fc"
      },
      "outputs": [
        {
          "data": {
            "text/plain": [
              "TensorShape([1, 8, 768])"
            ]
          },
          "execution_count": 74,
          "metadata": {},
          "output_type": "execute_result"
        }
      ],
      "source": [
        "output[0].shape"
      ]
    },
    {
      "cell_type": "code",
      "execution_count": null,
      "metadata": {
        "colab": {
          "base_uri": "https://localhost:8080/"
        },
        "id": "W9zC_4l61tK8",
        "outputId": "1bf6f616-5612-467c-8c32-f989366898c5"
      },
      "outputs": [
        {
          "data": {
            "text/plain": [
              "TensorShape([8, 768])"
            ]
          },
          "execution_count": 76,
          "metadata": {},
          "output_type": "execute_result"
        }
      ],
      "source": [
        "output[0][0].shape"
      ]
    },
    {
      "cell_type": "code",
      "execution_count": null,
      "metadata": {
        "colab": {
          "base_uri": "https://localhost:8080/"
        },
        "id": "MmBnIyNi1Q8k",
        "outputId": "a700a196-4081-44d1-ca2f-27b29fb67e34"
      },
      "outputs": [
        {
          "data": {
            "text/plain": [
              "tuple"
            ]
          },
          "execution_count": 72,
          "metadata": {},
          "output_type": "execute_result"
        }
      ],
      "source": [
        "type(output[1])"
      ]
    },
    {
      "cell_type": "code",
      "execution_count": null,
      "metadata": {
        "colab": {
          "base_uri": "https://localhost:8080/"
        },
        "id": "UZb2pJGVaaqL",
        "outputId": "1a9880c4-cb0d-49f0-9a5c-acfb24aeaccb"
      },
      "outputs": [
        {
          "data": {
            "text/plain": [
              "TensorShape([1, 8, 768])"
            ]
          },
          "execution_count": 77,
          "metadata": {},
          "output_type": "execute_result"
        }
      ],
      "source": [
        "output[1][0].shape \n",
        "\n",
        "# Output[1] will give you all the hidden state outputs \n",
        "# output[1][i] will give us the outuput of ith hidden state.\n",
        "\n",
        "# Hence output[1][0] will give us the first hidden state output"
      ]
    },
    {
      "cell_type": "markdown",
      "metadata": {},
      "source": [
        "https://trishalaneeraj.github.io/2020-04-04/feature-based-approach-with-bert \n",
        "\n",
        "Go through this blog to understand the dimensions "
      ]
    },
    {
      "cell_type": "code",
      "execution_count": null,
      "metadata": {
        "colab": {
          "base_uri": "https://localhost:8080/"
        },
        "id": "LKP1FJRSRkV0",
        "outputId": "2f7749dc-4043-4c6c-be73-353194b52501"
      },
      "outputs": [
        {
          "name": "stdout",
          "output_type": "stream",
          "text": [
            "<class 'tuple'>\n",
            "7\n",
            "tf.Tensor(\n",
            "[[[-1.8296386e-01 -7.4054033e-02  5.0267726e-02 ... -1.1260688e-01\n",
            "    4.4493079e-01  4.0941307e-01]\n",
            "  [ 7.0607476e-04  1.4825349e-01  3.4328306e-01 ... -8.6039692e-02\n",
            "    6.9474775e-01  4.3352805e-02]\n",
            "  [-5.0720620e-01  5.3085524e-01  3.7162673e-01 ... -5.6287491e-01\n",
            "    1.3755690e-01  2.8475243e-01]\n",
            "  ...\n",
            "  [-4.2251337e-01  5.7314694e-02  2.4338314e-01 ... -1.5222691e-01\n",
            "    2.4462417e-01  6.4154840e-01]\n",
            "  [-4.9384442e-01 -1.8895462e-01  1.2640835e-01 ...  6.3240513e-02\n",
            "    3.6912850e-01 -5.8251895e-02]\n",
            "  [ 8.3268648e-01  2.4948204e-01 -4.5439535e-01 ...  1.1997566e-01\n",
            "   -3.9257306e-01 -2.7785379e-01]]], shape=(1, 8, 768), dtype=float32)\n"
          ]
        }
      ],
      "source": [
        "print(type(output[1]))\n",
        "print(len(output[1])) # 7 Why?\n",
        "print(output[1][6]) # Shape:(1,8,768)"
      ]
    },
    {
      "cell_type": "markdown",
      "metadata": {
        "id": "kHMQIaouS1r1"
      },
      "source": [
        " **Same steps as above, for any Transformer /BERT like model**"
      ]
    },
    {
      "cell_type": "markdown",
      "metadata": {
        "id": "MLodxBWwpIYw"
      },
      "source": [
        "### Fine-tuning for various tasks\n",
        "\n",
        "- Refer: https://arxiv.org/pdf/1810.04805.pdf\n",
        "\n",
        "**Links to Useful Blogs**\n",
        "\n",
        "https://medium.com/swlh/a-simple-guide-on-using-bert-for-text-classification-bbf041ac8d04\n",
        "\n"
      ]
    },
    {
      "cell_type": "code",
      "execution_count": null,
      "metadata": {
        "id": "ho7v_xF3Pgk_"
      },
      "outputs": [],
      "source": []
    }
  ],
  "metadata": {
    "colab": {
      "collapsed_sections": [],
      "name": "BERT Self.ipynb",
      "provenance": []
    },
    "kernelspec": {
      "display_name": "Python 3",
      "name": "python3"
    },
    "widgets": {
      "application/vnd.jupyter.widget-state+json": {
        "08c97fa47b88455a96add95915683e3a": {
          "model_module": "@jupyter-widgets/controls",
          "model_module_version": "1.5.0",
          "model_name": "FloatProgressModel",
          "state": {
            "_dom_classes": [],
            "_model_module": "@jupyter-widgets/controls",
            "_model_module_version": "1.5.0",
            "_model_name": "FloatProgressModel",
            "_view_count": null,
            "_view_module": "@jupyter-widgets/controls",
            "_view_module_version": "1.5.0",
            "_view_name": "ProgressView",
            "bar_style": "success",
            "description": "",
            "description_tooltip": null,
            "layout": "IPY_MODEL_5df956029b09481c96e1405f94b0b227",
            "max": 213450,
            "min": 0,
            "orientation": "horizontal",
            "style": "IPY_MODEL_31c6f3515b894081bdafaf315d9d4d07",
            "value": 213450
          }
        },
        "0a1fb072f3f64f6c867ba6fa70921f76": {
          "model_module": "@jupyter-widgets/controls",
          "model_module_version": "1.5.0",
          "model_name": "FloatProgressModel",
          "state": {
            "_dom_classes": [],
            "_model_module": "@jupyter-widgets/controls",
            "_model_module_version": "1.5.0",
            "_model_name": "FloatProgressModel",
            "_view_count": null,
            "_view_module": "@jupyter-widgets/controls",
            "_view_module_version": "1.5.0",
            "_view_name": "ProgressView",
            "bar_style": "success",
            "description": "",
            "description_tooltip": null,
            "layout": "IPY_MODEL_33f0dd390b8c4157a669df4825cf595c",
            "max": 435797,
            "min": 0,
            "orientation": "horizontal",
            "style": "IPY_MODEL_77e7c46de82d4d16a0f9a41f75a6f21d",
            "value": 435797
          }
        },
        "0a3bf527c5bf49abb06f007df66802a0": {
          "model_module": "@jupyter-widgets/controls",
          "model_module_version": "1.5.0",
          "model_name": "DescriptionStyleModel",
          "state": {
            "_model_module": "@jupyter-widgets/controls",
            "_model_module_version": "1.5.0",
            "_model_name": "DescriptionStyleModel",
            "_view_count": null,
            "_view_module": "@jupyter-widgets/base",
            "_view_module_version": "1.2.0",
            "_view_name": "StyleView",
            "description_width": ""
          }
        },
        "0abd12e828a84bba8eaf1cbed15f4ce0": {
          "model_module": "@jupyter-widgets/controls",
          "model_module_version": "1.5.0",
          "model_name": "DescriptionStyleModel",
          "state": {
            "_model_module": "@jupyter-widgets/controls",
            "_model_module_version": "1.5.0",
            "_model_name": "DescriptionStyleModel",
            "_view_count": null,
            "_view_module": "@jupyter-widgets/base",
            "_view_module_version": "1.2.0",
            "_view_name": "StyleView",
            "description_width": ""
          }
        },
        "11f071e796ff4a46950330bca682f7ed": {
          "model_module": "@jupyter-widgets/controls",
          "model_module_version": "1.5.0",
          "model_name": "HBoxModel",
          "state": {
            "_dom_classes": [],
            "_model_module": "@jupyter-widgets/controls",
            "_model_module_version": "1.5.0",
            "_model_name": "HBoxModel",
            "_view_count": null,
            "_view_module": "@jupyter-widgets/controls",
            "_view_module_version": "1.5.0",
            "_view_name": "HBoxView",
            "box_style": "",
            "children": [
              "IPY_MODEL_7e076d237569432e841f3ff61d62db40",
              "IPY_MODEL_3422ea456daa48b8b9c001b18bc1c8e1",
              "IPY_MODEL_ae95ca95b42848a5bdbc8e28b99374d0"
            ],
            "layout": "IPY_MODEL_6af3ae4124264b239f42723cd15eca49"
          }
        },
        "14d63975b3094de783a2fcf1f0a76a72": {
          "model_module": "@jupyter-widgets/controls",
          "model_module_version": "1.5.0",
          "model_name": "FloatProgressModel",
          "state": {
            "_dom_classes": [],
            "_model_module": "@jupyter-widgets/controls",
            "_model_module_version": "1.5.0",
            "_model_name": "FloatProgressModel",
            "_view_count": null,
            "_view_module": "@jupyter-widgets/controls",
            "_view_module_version": "1.5.0",
            "_view_name": "ProgressView",
            "bar_style": "success",
            "description": "",
            "description_tooltip": null,
            "layout": "IPY_MODEL_e2d02b526bbc4254bbd5d44e5f0885ee",
            "max": 231508,
            "min": 0,
            "orientation": "horizontal",
            "style": "IPY_MODEL_adeda402ea4145c5835d79ccc345f69f",
            "value": 231508
          }
        },
        "16f1227c3236479cb43381f30052dd0e": {
          "model_module": "@jupyter-widgets/base",
          "model_module_version": "1.2.0",
          "model_name": "LayoutModel",
          "state": {
            "_model_module": "@jupyter-widgets/base",
            "_model_module_version": "1.2.0",
            "_model_name": "LayoutModel",
            "_view_count": null,
            "_view_module": "@jupyter-widgets/base",
            "_view_module_version": "1.2.0",
            "_view_name": "LayoutView",
            "align_content": null,
            "align_items": null,
            "align_self": null,
            "border": null,
            "bottom": null,
            "display": null,
            "flex": null,
            "flex_flow": null,
            "grid_area": null,
            "grid_auto_columns": null,
            "grid_auto_flow": null,
            "grid_auto_rows": null,
            "grid_column": null,
            "grid_gap": null,
            "grid_row": null,
            "grid_template_areas": null,
            "grid_template_columns": null,
            "grid_template_rows": null,
            "height": null,
            "justify_content": null,
            "justify_items": null,
            "left": null,
            "margin": null,
            "max_height": null,
            "max_width": null,
            "min_height": null,
            "min_width": null,
            "object_fit": null,
            "object_position": null,
            "order": null,
            "overflow": null,
            "overflow_x": null,
            "overflow_y": null,
            "padding": null,
            "right": null,
            "top": null,
            "visibility": null,
            "width": null
          }
        },
        "174dbd57be48433c99cb7402acfdcb5b": {
          "model_module": "@jupyter-widgets/controls",
          "model_module_version": "1.5.0",
          "model_name": "FloatProgressModel",
          "state": {
            "_dom_classes": [],
            "_model_module": "@jupyter-widgets/controls",
            "_model_module_version": "1.5.0",
            "_model_name": "FloatProgressModel",
            "_view_count": null,
            "_view_module": "@jupyter-widgets/controls",
            "_view_module_version": "1.5.0",
            "_view_name": "ProgressView",
            "bar_style": "success",
            "description": "",
            "description_tooltip": null,
            "layout": "IPY_MODEL_9abc58422f9a45679d4b84a862194fa1",
            "max": 466062,
            "min": 0,
            "orientation": "horizontal",
            "style": "IPY_MODEL_73ac0113abe344199f39b488bb2caa25",
            "value": 466062
          }
        },
        "1c2df7c9ce6e4ab7beacb39c311311da": {
          "model_module": "@jupyter-widgets/controls",
          "model_module_version": "1.5.0",
          "model_name": "HBoxModel",
          "state": {
            "_dom_classes": [],
            "_model_module": "@jupyter-widgets/controls",
            "_model_module_version": "1.5.0",
            "_model_name": "HBoxModel",
            "_view_count": null,
            "_view_module": "@jupyter-widgets/controls",
            "_view_module_version": "1.5.0",
            "_view_name": "HBoxView",
            "box_style": "",
            "children": [
              "IPY_MODEL_ee8ab5cb6200423da7e5f10be62c9909",
              "IPY_MODEL_4384dbc94d774b71bca76bcdf032b53b",
              "IPY_MODEL_8cf311453f4a4fbe9d67492a63e306b6"
            ],
            "layout": "IPY_MODEL_4cce8ec0181e4201ab16c3b26d725018"
          }
        },
        "22ace10ea89e4bb1865b4eec4acb4cf4": {
          "model_module": "@jupyter-widgets/base",
          "model_module_version": "1.2.0",
          "model_name": "LayoutModel",
          "state": {
            "_model_module": "@jupyter-widgets/base",
            "_model_module_version": "1.2.0",
            "_model_name": "LayoutModel",
            "_view_count": null,
            "_view_module": "@jupyter-widgets/base",
            "_view_module_version": "1.2.0",
            "_view_name": "LayoutView",
            "align_content": null,
            "align_items": null,
            "align_self": null,
            "border": null,
            "bottom": null,
            "display": null,
            "flex": null,
            "flex_flow": null,
            "grid_area": null,
            "grid_auto_columns": null,
            "grid_auto_flow": null,
            "grid_auto_rows": null,
            "grid_column": null,
            "grid_gap": null,
            "grid_row": null,
            "grid_template_areas": null,
            "grid_template_columns": null,
            "grid_template_rows": null,
            "height": null,
            "justify_content": null,
            "justify_items": null,
            "left": null,
            "margin": null,
            "max_height": null,
            "max_width": null,
            "min_height": null,
            "min_width": null,
            "object_fit": null,
            "object_position": null,
            "order": null,
            "overflow": null,
            "overflow_x": null,
            "overflow_y": null,
            "padding": null,
            "right": null,
            "top": null,
            "visibility": null,
            "width": null
          }
        },
        "23e071429c994c9abf65430efdde5b06": {
          "model_module": "@jupyter-widgets/controls",
          "model_module_version": "1.5.0",
          "model_name": "ProgressStyleModel",
          "state": {
            "_model_module": "@jupyter-widgets/controls",
            "_model_module_version": "1.5.0",
            "_model_name": "ProgressStyleModel",
            "_view_count": null,
            "_view_module": "@jupyter-widgets/base",
            "_view_module_version": "1.2.0",
            "_view_name": "StyleView",
            "bar_color": null,
            "description_width": ""
          }
        },
        "2415f82c910d4c2c8317a7cf2cdb3a95": {
          "model_module": "@jupyter-widgets/controls",
          "model_module_version": "1.5.0",
          "model_name": "HBoxModel",
          "state": {
            "_dom_classes": [],
            "_model_module": "@jupyter-widgets/controls",
            "_model_module_version": "1.5.0",
            "_model_name": "HBoxModel",
            "_view_count": null,
            "_view_module": "@jupyter-widgets/controls",
            "_view_module_version": "1.5.0",
            "_view_name": "HBoxView",
            "box_style": "",
            "children": [
              "IPY_MODEL_a3dfa241a82a4dac9fc18b6c7ea4f6e6",
              "IPY_MODEL_f71f1ff2199e4f9ca62bfeea96c1533b",
              "IPY_MODEL_8284af66b7af466c8380a0ebc37c3750"
            ],
            "layout": "IPY_MODEL_16f1227c3236479cb43381f30052dd0e"
          }
        },
        "242d637fb5ab44aab9c3501a5ce71d53": {
          "model_module": "@jupyter-widgets/controls",
          "model_module_version": "1.5.0",
          "model_name": "HBoxModel",
          "state": {
            "_dom_classes": [],
            "_model_module": "@jupyter-widgets/controls",
            "_model_module_version": "1.5.0",
            "_model_name": "HBoxModel",
            "_view_count": null,
            "_view_module": "@jupyter-widgets/controls",
            "_view_module_version": "1.5.0",
            "_view_name": "HBoxView",
            "box_style": "",
            "children": [
              "IPY_MODEL_b4f98564298748c3a05a6090d299e53a",
              "IPY_MODEL_14d63975b3094de783a2fcf1f0a76a72",
              "IPY_MODEL_d407864dc4914e618fba904f5133df1f"
            ],
            "layout": "IPY_MODEL_c9b804539d254ea7b9ea0163d19c336b"
          }
        },
        "2489c877fa744e14ae19ad8615088c3c": {
          "model_module": "@jupyter-widgets/base",
          "model_module_version": "1.2.0",
          "model_name": "LayoutModel",
          "state": {
            "_model_module": "@jupyter-widgets/base",
            "_model_module_version": "1.2.0",
            "_model_name": "LayoutModel",
            "_view_count": null,
            "_view_module": "@jupyter-widgets/base",
            "_view_module_version": "1.2.0",
            "_view_name": "LayoutView",
            "align_content": null,
            "align_items": null,
            "align_self": null,
            "border": null,
            "bottom": null,
            "display": null,
            "flex": null,
            "flex_flow": null,
            "grid_area": null,
            "grid_auto_columns": null,
            "grid_auto_flow": null,
            "grid_auto_rows": null,
            "grid_column": null,
            "grid_gap": null,
            "grid_row": null,
            "grid_template_areas": null,
            "grid_template_columns": null,
            "grid_template_rows": null,
            "height": null,
            "justify_content": null,
            "justify_items": null,
            "left": null,
            "margin": null,
            "max_height": null,
            "max_width": null,
            "min_height": null,
            "min_width": null,
            "object_fit": null,
            "object_position": null,
            "order": null,
            "overflow": null,
            "overflow_x": null,
            "overflow_y": null,
            "padding": null,
            "right": null,
            "top": null,
            "visibility": null,
            "width": null
          }
        },
        "25594f20a4294e7b80e034f1a303dca9": {
          "model_module": "@jupyter-widgets/controls",
          "model_module_version": "1.5.0",
          "model_name": "ProgressStyleModel",
          "state": {
            "_model_module": "@jupyter-widgets/controls",
            "_model_module_version": "1.5.0",
            "_model_name": "ProgressStyleModel",
            "_view_count": null,
            "_view_module": "@jupyter-widgets/base",
            "_view_module_version": "1.2.0",
            "_view_name": "StyleView",
            "bar_color": null,
            "description_width": ""
          }
        },
        "25c2f1e89ee1440f94f7714b5675a98c": {
          "model_module": "@jupyter-widgets/controls",
          "model_module_version": "1.5.0",
          "model_name": "HBoxModel",
          "state": {
            "_dom_classes": [],
            "_model_module": "@jupyter-widgets/controls",
            "_model_module_version": "1.5.0",
            "_model_name": "HBoxModel",
            "_view_count": null,
            "_view_module": "@jupyter-widgets/controls",
            "_view_module_version": "1.5.0",
            "_view_name": "HBoxView",
            "box_style": "",
            "children": [
              "IPY_MODEL_77aa1fa5f0c94ff5af381440ca67a0a8",
              "IPY_MODEL_08c97fa47b88455a96add95915683e3a",
              "IPY_MODEL_76df327143e84f94b9a22b17c36c6ec3"
            ],
            "layout": "IPY_MODEL_36199840159f48c48c5c7fce677b1631"
          }
        },
        "28522a889bca400cbd6475335a2bee6a": {
          "model_module": "@jupyter-widgets/controls",
          "model_module_version": "1.5.0",
          "model_name": "FloatProgressModel",
          "state": {
            "_dom_classes": [],
            "_model_module": "@jupyter-widgets/controls",
            "_model_module_version": "1.5.0",
            "_model_name": "FloatProgressModel",
            "_view_count": null,
            "_view_module": "@jupyter-widgets/controls",
            "_view_module_version": "1.5.0",
            "_view_name": "ProgressView",
            "bar_style": "success",
            "description": "",
            "description_tooltip": null,
            "layout": "IPY_MODEL_7caf9b5b8ebd41f68f822e0b718d84e3",
            "max": 29,
            "min": 0,
            "orientation": "horizontal",
            "style": "IPY_MODEL_25594f20a4294e7b80e034f1a303dca9",
            "value": 29
          }
        },
        "28ad7b447c174a1ea6a1f0749645becc": {
          "model_module": "@jupyter-widgets/base",
          "model_module_version": "1.2.0",
          "model_name": "LayoutModel",
          "state": {
            "_model_module": "@jupyter-widgets/base",
            "_model_module_version": "1.2.0",
            "_model_name": "LayoutModel",
            "_view_count": null,
            "_view_module": "@jupyter-widgets/base",
            "_view_module_version": "1.2.0",
            "_view_name": "LayoutView",
            "align_content": null,
            "align_items": null,
            "align_self": null,
            "border": null,
            "bottom": null,
            "display": null,
            "flex": null,
            "flex_flow": null,
            "grid_area": null,
            "grid_auto_columns": null,
            "grid_auto_flow": null,
            "grid_auto_rows": null,
            "grid_column": null,
            "grid_gap": null,
            "grid_row": null,
            "grid_template_areas": null,
            "grid_template_columns": null,
            "grid_template_rows": null,
            "height": null,
            "justify_content": null,
            "justify_items": null,
            "left": null,
            "margin": null,
            "max_height": null,
            "max_width": null,
            "min_height": null,
            "min_width": null,
            "object_fit": null,
            "object_position": null,
            "order": null,
            "overflow": null,
            "overflow_x": null,
            "overflow_y": null,
            "padding": null,
            "right": null,
            "top": null,
            "visibility": null,
            "width": null
          }
        },
        "2d82d4b563c44c499b1ba2b425a9b01a": {
          "model_module": "@jupyter-widgets/base",
          "model_module_version": "1.2.0",
          "model_name": "LayoutModel",
          "state": {
            "_model_module": "@jupyter-widgets/base",
            "_model_module_version": "1.2.0",
            "_model_name": "LayoutModel",
            "_view_count": null,
            "_view_module": "@jupyter-widgets/base",
            "_view_module_version": "1.2.0",
            "_view_name": "LayoutView",
            "align_content": null,
            "align_items": null,
            "align_self": null,
            "border": null,
            "bottom": null,
            "display": null,
            "flex": null,
            "flex_flow": null,
            "grid_area": null,
            "grid_auto_columns": null,
            "grid_auto_flow": null,
            "grid_auto_rows": null,
            "grid_column": null,
            "grid_gap": null,
            "grid_row": null,
            "grid_template_areas": null,
            "grid_template_columns": null,
            "grid_template_rows": null,
            "height": null,
            "justify_content": null,
            "justify_items": null,
            "left": null,
            "margin": null,
            "max_height": null,
            "max_width": null,
            "min_height": null,
            "min_width": null,
            "object_fit": null,
            "object_position": null,
            "order": null,
            "overflow": null,
            "overflow_x": null,
            "overflow_y": null,
            "padding": null,
            "right": null,
            "top": null,
            "visibility": null,
            "width": null
          }
        },
        "317cb1a3482643c1bcc3e4e71f5b29ea": {
          "model_module": "@jupyter-widgets/controls",
          "model_module_version": "1.5.0",
          "model_name": "HBoxModel",
          "state": {
            "_dom_classes": [],
            "_model_module": "@jupyter-widgets/controls",
            "_model_module_version": "1.5.0",
            "_model_name": "HBoxModel",
            "_view_count": null,
            "_view_module": "@jupyter-widgets/controls",
            "_view_module_version": "1.5.0",
            "_view_name": "HBoxView",
            "box_style": "",
            "children": [
              "IPY_MODEL_dd7f7ba126d04bff9b3674e69aada554",
              "IPY_MODEL_b341c07417ef42f08bc8762c561433e6",
              "IPY_MODEL_45a6e2da928d4c88a639409aa743d54e"
            ],
            "layout": "IPY_MODEL_9cb83b67c3924eeb9891a610a24af936"
          }
        },
        "31c6f3515b894081bdafaf315d9d4d07": {
          "model_module": "@jupyter-widgets/controls",
          "model_module_version": "1.5.0",
          "model_name": "ProgressStyleModel",
          "state": {
            "_model_module": "@jupyter-widgets/controls",
            "_model_module_version": "1.5.0",
            "_model_name": "ProgressStyleModel",
            "_view_count": null,
            "_view_module": "@jupyter-widgets/base",
            "_view_module_version": "1.2.0",
            "_view_name": "StyleView",
            "bar_color": null,
            "description_width": ""
          }
        },
        "33f0dd390b8c4157a669df4825cf595c": {
          "model_module": "@jupyter-widgets/base",
          "model_module_version": "1.2.0",
          "model_name": "LayoutModel",
          "state": {
            "_model_module": "@jupyter-widgets/base",
            "_model_module_version": "1.2.0",
            "_model_name": "LayoutModel",
            "_view_count": null,
            "_view_module": "@jupyter-widgets/base",
            "_view_module_version": "1.2.0",
            "_view_name": "LayoutView",
            "align_content": null,
            "align_items": null,
            "align_self": null,
            "border": null,
            "bottom": null,
            "display": null,
            "flex": null,
            "flex_flow": null,
            "grid_area": null,
            "grid_auto_columns": null,
            "grid_auto_flow": null,
            "grid_auto_rows": null,
            "grid_column": null,
            "grid_gap": null,
            "grid_row": null,
            "grid_template_areas": null,
            "grid_template_columns": null,
            "grid_template_rows": null,
            "height": null,
            "justify_content": null,
            "justify_items": null,
            "left": null,
            "margin": null,
            "max_height": null,
            "max_width": null,
            "min_height": null,
            "min_width": null,
            "object_fit": null,
            "object_position": null,
            "order": null,
            "overflow": null,
            "overflow_x": null,
            "overflow_y": null,
            "padding": null,
            "right": null,
            "top": null,
            "visibility": null,
            "width": null
          }
        },
        "3422ea456daa48b8b9c001b18bc1c8e1": {
          "model_module": "@jupyter-widgets/controls",
          "model_module_version": "1.5.0",
          "model_name": "FloatProgressModel",
          "state": {
            "_dom_classes": [],
            "_model_module": "@jupyter-widgets/controls",
            "_model_module_version": "1.5.0",
            "_model_name": "FloatProgressModel",
            "_view_count": null,
            "_view_module": "@jupyter-widgets/controls",
            "_view_module_version": "1.5.0",
            "_view_name": "ProgressView",
            "bar_style": "success",
            "description": "",
            "description_tooltip": null,
            "layout": "IPY_MODEL_8678869107b748049e5d3a079600c909",
            "max": 363423424,
            "min": 0,
            "orientation": "horizontal",
            "style": "IPY_MODEL_23e071429c994c9abf65430efdde5b06",
            "value": 363423424
          }
        },
        "36199840159f48c48c5c7fce677b1631": {
          "model_module": "@jupyter-widgets/base",
          "model_module_version": "1.2.0",
          "model_name": "LayoutModel",
          "state": {
            "_model_module": "@jupyter-widgets/base",
            "_model_module_version": "1.2.0",
            "_model_name": "LayoutModel",
            "_view_count": null,
            "_view_module": "@jupyter-widgets/base",
            "_view_module_version": "1.2.0",
            "_view_name": "LayoutView",
            "align_content": null,
            "align_items": null,
            "align_self": null,
            "border": null,
            "bottom": null,
            "display": null,
            "flex": null,
            "flex_flow": null,
            "grid_area": null,
            "grid_auto_columns": null,
            "grid_auto_flow": null,
            "grid_auto_rows": null,
            "grid_column": null,
            "grid_gap": null,
            "grid_row": null,
            "grid_template_areas": null,
            "grid_template_columns": null,
            "grid_template_rows": null,
            "height": null,
            "justify_content": null,
            "justify_items": null,
            "left": null,
            "margin": null,
            "max_height": null,
            "max_width": null,
            "min_height": null,
            "min_width": null,
            "object_fit": null,
            "object_position": null,
            "order": null,
            "overflow": null,
            "overflow_x": null,
            "overflow_y": null,
            "padding": null,
            "right": null,
            "top": null,
            "visibility": null,
            "width": null
          }
        },
        "385ac11ed67348748e68ab6bf74a6b98": {
          "model_module": "@jupyter-widgets/controls",
          "model_module_version": "1.5.0",
          "model_name": "DescriptionStyleModel",
          "state": {
            "_model_module": "@jupyter-widgets/controls",
            "_model_module_version": "1.5.0",
            "_model_name": "DescriptionStyleModel",
            "_view_count": null,
            "_view_module": "@jupyter-widgets/base",
            "_view_module_version": "1.2.0",
            "_view_name": "StyleView",
            "description_width": ""
          }
        },
        "3da6d3d347d343cf85a9b0fc906e3792": {
          "model_module": "@jupyter-widgets/controls",
          "model_module_version": "1.5.0",
          "model_name": "DescriptionStyleModel",
          "state": {
            "_model_module": "@jupyter-widgets/controls",
            "_model_module_version": "1.5.0",
            "_model_name": "DescriptionStyleModel",
            "_view_count": null,
            "_view_module": "@jupyter-widgets/base",
            "_view_module_version": "1.2.0",
            "_view_name": "StyleView",
            "description_width": ""
          }
        },
        "42f1e5a14fd344cfbbb9942d505336cc": {
          "model_module": "@jupyter-widgets/controls",
          "model_module_version": "1.5.0",
          "model_name": "HBoxModel",
          "state": {
            "_dom_classes": [],
            "_model_module": "@jupyter-widgets/controls",
            "_model_module_version": "1.5.0",
            "_model_name": "HBoxModel",
            "_view_count": null,
            "_view_module": "@jupyter-widgets/controls",
            "_view_module_version": "1.5.0",
            "_view_name": "HBoxView",
            "box_style": "",
            "children": [
              "IPY_MODEL_98f79149eaf444539670692c4fb6e8c1",
              "IPY_MODEL_0a1fb072f3f64f6c867ba6fa70921f76",
              "IPY_MODEL_4f8e89a461e84b9d9e4a1c29038608ba"
            ],
            "layout": "IPY_MODEL_2489c877fa744e14ae19ad8615088c3c"
          }
        },
        "4384dbc94d774b71bca76bcdf032b53b": {
          "model_module": "@jupyter-widgets/controls",
          "model_module_version": "1.5.0",
          "model_name": "FloatProgressModel",
          "state": {
            "_dom_classes": [],
            "_model_module": "@jupyter-widgets/controls",
            "_model_module_version": "1.5.0",
            "_model_name": "FloatProgressModel",
            "_view_count": null,
            "_view_module": "@jupyter-widgets/controls",
            "_view_module_version": "1.5.0",
            "_view_name": "ProgressView",
            "bar_style": "success",
            "description": "",
            "description_tooltip": null,
            "layout": "IPY_MODEL_668113d61a5d4fc3ae8dc753e5c1fa63",
            "max": 570,
            "min": 0,
            "orientation": "horizontal",
            "style": "IPY_MODEL_b5804c062ed148f3868af8bd53444320",
            "value": 570
          }
        },
        "43a37938eefa45bd82804660f9172f59": {
          "model_module": "@jupyter-widgets/base",
          "model_module_version": "1.2.0",
          "model_name": "LayoutModel",
          "state": {
            "_model_module": "@jupyter-widgets/base",
            "_model_module_version": "1.2.0",
            "_model_name": "LayoutModel",
            "_view_count": null,
            "_view_module": "@jupyter-widgets/base",
            "_view_module_version": "1.2.0",
            "_view_name": "LayoutView",
            "align_content": null,
            "align_items": null,
            "align_self": null,
            "border": null,
            "bottom": null,
            "display": null,
            "flex": null,
            "flex_flow": null,
            "grid_area": null,
            "grid_auto_columns": null,
            "grid_auto_flow": null,
            "grid_auto_rows": null,
            "grid_column": null,
            "grid_gap": null,
            "grid_row": null,
            "grid_template_areas": null,
            "grid_template_columns": null,
            "grid_template_rows": null,
            "height": null,
            "justify_content": null,
            "justify_items": null,
            "left": null,
            "margin": null,
            "max_height": null,
            "max_width": null,
            "min_height": null,
            "min_width": null,
            "object_fit": null,
            "object_position": null,
            "order": null,
            "overflow": null,
            "overflow_x": null,
            "overflow_y": null,
            "padding": null,
            "right": null,
            "top": null,
            "visibility": null,
            "width": null
          }
        },
        "45a6e2da928d4c88a639409aa743d54e": {
          "model_module": "@jupyter-widgets/controls",
          "model_module_version": "1.5.0",
          "model_name": "HTMLModel",
          "state": {
            "_dom_classes": [],
            "_model_module": "@jupyter-widgets/controls",
            "_model_module_version": "1.5.0",
            "_model_name": "HTMLModel",
            "_view_count": null,
            "_view_module": "@jupyter-widgets/controls",
            "_view_module_version": "1.5.0",
            "_view_name": "HTMLView",
            "description": "",
            "description_tooltip": null,
            "layout": "IPY_MODEL_8f30101f1c1e4a5aa5437dcca1713390",
            "placeholder": "​",
            "style": "IPY_MODEL_911a306a9f2a4e3fad3cbe7c0d095a59",
            "value": " 483/483 [00:00&lt;00:00, 13.0kB/s]"
          }
        },
        "495e7a647f4840d5baadda6def607379": {
          "model_module": "@jupyter-widgets/controls",
          "model_module_version": "1.5.0",
          "model_name": "HTMLModel",
          "state": {
            "_dom_classes": [],
            "_model_module": "@jupyter-widgets/controls",
            "_model_module_version": "1.5.0",
            "_model_name": "HTMLModel",
            "_view_count": null,
            "_view_module": "@jupyter-widgets/controls",
            "_view_module_version": "1.5.0",
            "_view_name": "HTMLView",
            "description": "",
            "description_tooltip": null,
            "layout": "IPY_MODEL_e107daff496846a781ca348d193182a6",
            "placeholder": "​",
            "style": "IPY_MODEL_e4217f0c5d6947e9ade2b7847ffd70b6",
            "value": "Downloading: 100%"
          }
        },
        "4cce8ec0181e4201ab16c3b26d725018": {
          "model_module": "@jupyter-widgets/base",
          "model_module_version": "1.2.0",
          "model_name": "LayoutModel",
          "state": {
            "_model_module": "@jupyter-widgets/base",
            "_model_module_version": "1.2.0",
            "_model_name": "LayoutModel",
            "_view_count": null,
            "_view_module": "@jupyter-widgets/base",
            "_view_module_version": "1.2.0",
            "_view_name": "LayoutView",
            "align_content": null,
            "align_items": null,
            "align_self": null,
            "border": null,
            "bottom": null,
            "display": null,
            "flex": null,
            "flex_flow": null,
            "grid_area": null,
            "grid_auto_columns": null,
            "grid_auto_flow": null,
            "grid_auto_rows": null,
            "grid_column": null,
            "grid_gap": null,
            "grid_row": null,
            "grid_template_areas": null,
            "grid_template_columns": null,
            "grid_template_rows": null,
            "height": null,
            "justify_content": null,
            "justify_items": null,
            "left": null,
            "margin": null,
            "max_height": null,
            "max_width": null,
            "min_height": null,
            "min_width": null,
            "object_fit": null,
            "object_position": null,
            "order": null,
            "overflow": null,
            "overflow_x": null,
            "overflow_y": null,
            "padding": null,
            "right": null,
            "top": null,
            "visibility": null,
            "width": null
          }
        },
        "4f8e89a461e84b9d9e4a1c29038608ba": {
          "model_module": "@jupyter-widgets/controls",
          "model_module_version": "1.5.0",
          "model_name": "HTMLModel",
          "state": {
            "_dom_classes": [],
            "_model_module": "@jupyter-widgets/controls",
            "_model_module_version": "1.5.0",
            "_model_name": "HTMLModel",
            "_view_count": null,
            "_view_module": "@jupyter-widgets/controls",
            "_view_module_version": "1.5.0",
            "_view_name": "HTMLView",
            "description": "",
            "description_tooltip": null,
            "layout": "IPY_MODEL_c15107f875504036bd15a8949eb994a8",
            "placeholder": "​",
            "style": "IPY_MODEL_8ad5914fcbaa4baca5f3290a5299c658",
            "value": " 426k/426k [00:00&lt;00:00, 560kB/s]"
          }
        },
        "58f8a85f5aca4747a3ad23e8624cf1f7": {
          "model_module": "@jupyter-widgets/base",
          "model_module_version": "1.2.0",
          "model_name": "LayoutModel",
          "state": {
            "_model_module": "@jupyter-widgets/base",
            "_model_module_version": "1.2.0",
            "_model_name": "LayoutModel",
            "_view_count": null,
            "_view_module": "@jupyter-widgets/base",
            "_view_module_version": "1.2.0",
            "_view_name": "LayoutView",
            "align_content": null,
            "align_items": null,
            "align_self": null,
            "border": null,
            "bottom": null,
            "display": null,
            "flex": null,
            "flex_flow": null,
            "grid_area": null,
            "grid_auto_columns": null,
            "grid_auto_flow": null,
            "grid_auto_rows": null,
            "grid_column": null,
            "grid_gap": null,
            "grid_row": null,
            "grid_template_areas": null,
            "grid_template_columns": null,
            "grid_template_rows": null,
            "height": null,
            "justify_content": null,
            "justify_items": null,
            "left": null,
            "margin": null,
            "max_height": null,
            "max_width": null,
            "min_height": null,
            "min_width": null,
            "object_fit": null,
            "object_position": null,
            "order": null,
            "overflow": null,
            "overflow_x": null,
            "overflow_y": null,
            "padding": null,
            "right": null,
            "top": null,
            "visibility": null,
            "width": null
          }
        },
        "59f188cb9f8d4e34b92329b470e460f4": {
          "model_module": "@jupyter-widgets/controls",
          "model_module_version": "1.5.0",
          "model_name": "HTMLModel",
          "state": {
            "_dom_classes": [],
            "_model_module": "@jupyter-widgets/controls",
            "_model_module_version": "1.5.0",
            "_model_name": "HTMLModel",
            "_view_count": null,
            "_view_module": "@jupyter-widgets/controls",
            "_view_module_version": "1.5.0",
            "_view_name": "HTMLView",
            "description": "",
            "description_tooltip": null,
            "layout": "IPY_MODEL_28ad7b447c174a1ea6a1f0749645becc",
            "placeholder": "​",
            "style": "IPY_MODEL_385ac11ed67348748e68ab6bf74a6b98",
            "value": " 455k/455k [00:00&lt;00:00, 1.69MB/s]"
          }
        },
        "5df956029b09481c96e1405f94b0b227": {
          "model_module": "@jupyter-widgets/base",
          "model_module_version": "1.2.0",
          "model_name": "LayoutModel",
          "state": {
            "_model_module": "@jupyter-widgets/base",
            "_model_module_version": "1.2.0",
            "_model_name": "LayoutModel",
            "_view_count": null,
            "_view_module": "@jupyter-widgets/base",
            "_view_module_version": "1.2.0",
            "_view_name": "LayoutView",
            "align_content": null,
            "align_items": null,
            "align_self": null,
            "border": null,
            "bottom": null,
            "display": null,
            "flex": null,
            "flex_flow": null,
            "grid_area": null,
            "grid_auto_columns": null,
            "grid_auto_flow": null,
            "grid_auto_rows": null,
            "grid_column": null,
            "grid_gap": null,
            "grid_row": null,
            "grid_template_areas": null,
            "grid_template_columns": null,
            "grid_template_rows": null,
            "height": null,
            "justify_content": null,
            "justify_items": null,
            "left": null,
            "margin": null,
            "max_height": null,
            "max_width": null,
            "min_height": null,
            "min_width": null,
            "object_fit": null,
            "object_position": null,
            "order": null,
            "overflow": null,
            "overflow_x": null,
            "overflow_y": null,
            "padding": null,
            "right": null,
            "top": null,
            "visibility": null,
            "width": null
          }
        },
        "5ee970c145d34e0da7549ac65c8813a6": {
          "model_module": "@jupyter-widgets/controls",
          "model_module_version": "1.5.0",
          "model_name": "DescriptionStyleModel",
          "state": {
            "_model_module": "@jupyter-widgets/controls",
            "_model_module_version": "1.5.0",
            "_model_name": "DescriptionStyleModel",
            "_view_count": null,
            "_view_module": "@jupyter-widgets/base",
            "_view_module_version": "1.2.0",
            "_view_name": "StyleView",
            "description_width": ""
          }
        },
        "65fd39e80b8a49bb9cb2f8e4d63ad1a5": {
          "model_module": "@jupyter-widgets/base",
          "model_module_version": "1.2.0",
          "model_name": "LayoutModel",
          "state": {
            "_model_module": "@jupyter-widgets/base",
            "_model_module_version": "1.2.0",
            "_model_name": "LayoutModel",
            "_view_count": null,
            "_view_module": "@jupyter-widgets/base",
            "_view_module_version": "1.2.0",
            "_view_name": "LayoutView",
            "align_content": null,
            "align_items": null,
            "align_self": null,
            "border": null,
            "bottom": null,
            "display": null,
            "flex": null,
            "flex_flow": null,
            "grid_area": null,
            "grid_auto_columns": null,
            "grid_auto_flow": null,
            "grid_auto_rows": null,
            "grid_column": null,
            "grid_gap": null,
            "grid_row": null,
            "grid_template_areas": null,
            "grid_template_columns": null,
            "grid_template_rows": null,
            "height": null,
            "justify_content": null,
            "justify_items": null,
            "left": null,
            "margin": null,
            "max_height": null,
            "max_width": null,
            "min_height": null,
            "min_width": null,
            "object_fit": null,
            "object_position": null,
            "order": null,
            "overflow": null,
            "overflow_x": null,
            "overflow_y": null,
            "padding": null,
            "right": null,
            "top": null,
            "visibility": null,
            "width": null
          }
        },
        "668113d61a5d4fc3ae8dc753e5c1fa63": {
          "model_module": "@jupyter-widgets/base",
          "model_module_version": "1.2.0",
          "model_name": "LayoutModel",
          "state": {
            "_model_module": "@jupyter-widgets/base",
            "_model_module_version": "1.2.0",
            "_model_name": "LayoutModel",
            "_view_count": null,
            "_view_module": "@jupyter-widgets/base",
            "_view_module_version": "1.2.0",
            "_view_name": "LayoutView",
            "align_content": null,
            "align_items": null,
            "align_self": null,
            "border": null,
            "bottom": null,
            "display": null,
            "flex": null,
            "flex_flow": null,
            "grid_area": null,
            "grid_auto_columns": null,
            "grid_auto_flow": null,
            "grid_auto_rows": null,
            "grid_column": null,
            "grid_gap": null,
            "grid_row": null,
            "grid_template_areas": null,
            "grid_template_columns": null,
            "grid_template_rows": null,
            "height": null,
            "justify_content": null,
            "justify_items": null,
            "left": null,
            "margin": null,
            "max_height": null,
            "max_width": null,
            "min_height": null,
            "min_width": null,
            "object_fit": null,
            "object_position": null,
            "order": null,
            "overflow": null,
            "overflow_x": null,
            "overflow_y": null,
            "padding": null,
            "right": null,
            "top": null,
            "visibility": null,
            "width": null
          }
        },
        "672b55e3d2a148e0be3223892171ddb5": {
          "model_module": "@jupyter-widgets/controls",
          "model_module_version": "1.5.0",
          "model_name": "HBoxModel",
          "state": {
            "_dom_classes": [],
            "_model_module": "@jupyter-widgets/controls",
            "_model_module_version": "1.5.0",
            "_model_name": "HBoxModel",
            "_view_count": null,
            "_view_module": "@jupyter-widgets/controls",
            "_view_module_version": "1.5.0",
            "_view_name": "HBoxView",
            "box_style": "",
            "children": [
              "IPY_MODEL_495e7a647f4840d5baadda6def607379",
              "IPY_MODEL_28522a889bca400cbd6475335a2bee6a",
              "IPY_MODEL_bc566667d785444680238a2bf88a74ca"
            ],
            "layout": "IPY_MODEL_e5d7d44c749544bf8d3001b93f1f2945"
          }
        },
        "6af3ae4124264b239f42723cd15eca49": {
          "model_module": "@jupyter-widgets/base",
          "model_module_version": "1.2.0",
          "model_name": "LayoutModel",
          "state": {
            "_model_module": "@jupyter-widgets/base",
            "_model_module_version": "1.2.0",
            "_model_name": "LayoutModel",
            "_view_count": null,
            "_view_module": "@jupyter-widgets/base",
            "_view_module_version": "1.2.0",
            "_view_name": "LayoutView",
            "align_content": null,
            "align_items": null,
            "align_self": null,
            "border": null,
            "bottom": null,
            "display": null,
            "flex": null,
            "flex_flow": null,
            "grid_area": null,
            "grid_auto_columns": null,
            "grid_auto_flow": null,
            "grid_auto_rows": null,
            "grid_column": null,
            "grid_gap": null,
            "grid_row": null,
            "grid_template_areas": null,
            "grid_template_columns": null,
            "grid_template_rows": null,
            "height": null,
            "justify_content": null,
            "justify_items": null,
            "left": null,
            "margin": null,
            "max_height": null,
            "max_width": null,
            "min_height": null,
            "min_width": null,
            "object_fit": null,
            "object_position": null,
            "order": null,
            "overflow": null,
            "overflow_x": null,
            "overflow_y": null,
            "padding": null,
            "right": null,
            "top": null,
            "visibility": null,
            "width": null
          }
        },
        "6c26468176554937938602852884b753": {
          "model_module": "@jupyter-widgets/base",
          "model_module_version": "1.2.0",
          "model_name": "LayoutModel",
          "state": {
            "_model_module": "@jupyter-widgets/base",
            "_model_module_version": "1.2.0",
            "_model_name": "LayoutModel",
            "_view_count": null,
            "_view_module": "@jupyter-widgets/base",
            "_view_module_version": "1.2.0",
            "_view_name": "LayoutView",
            "align_content": null,
            "align_items": null,
            "align_self": null,
            "border": null,
            "bottom": null,
            "display": null,
            "flex": null,
            "flex_flow": null,
            "grid_area": null,
            "grid_auto_columns": null,
            "grid_auto_flow": null,
            "grid_auto_rows": null,
            "grid_column": null,
            "grid_gap": null,
            "grid_row": null,
            "grid_template_areas": null,
            "grid_template_columns": null,
            "grid_template_rows": null,
            "height": null,
            "justify_content": null,
            "justify_items": null,
            "left": null,
            "margin": null,
            "max_height": null,
            "max_width": null,
            "min_height": null,
            "min_width": null,
            "object_fit": null,
            "object_position": null,
            "order": null,
            "overflow": null,
            "overflow_x": null,
            "overflow_y": null,
            "padding": null,
            "right": null,
            "top": null,
            "visibility": null,
            "width": null
          }
        },
        "73ac0113abe344199f39b488bb2caa25": {
          "model_module": "@jupyter-widgets/controls",
          "model_module_version": "1.5.0",
          "model_name": "ProgressStyleModel",
          "state": {
            "_model_module": "@jupyter-widgets/controls",
            "_model_module_version": "1.5.0",
            "_model_name": "ProgressStyleModel",
            "_view_count": null,
            "_view_module": "@jupyter-widgets/base",
            "_view_module_version": "1.2.0",
            "_view_name": "StyleView",
            "bar_color": null,
            "description_width": ""
          }
        },
        "74d15da9fc1c4b9a9289ff6a577bf8b6": {
          "model_module": "@jupyter-widgets/base",
          "model_module_version": "1.2.0",
          "model_name": "LayoutModel",
          "state": {
            "_model_module": "@jupyter-widgets/base",
            "_model_module_version": "1.2.0",
            "_model_name": "LayoutModel",
            "_view_count": null,
            "_view_module": "@jupyter-widgets/base",
            "_view_module_version": "1.2.0",
            "_view_name": "LayoutView",
            "align_content": null,
            "align_items": null,
            "align_self": null,
            "border": null,
            "bottom": null,
            "display": null,
            "flex": null,
            "flex_flow": null,
            "grid_area": null,
            "grid_auto_columns": null,
            "grid_auto_flow": null,
            "grid_auto_rows": null,
            "grid_column": null,
            "grid_gap": null,
            "grid_row": null,
            "grid_template_areas": null,
            "grid_template_columns": null,
            "grid_template_rows": null,
            "height": null,
            "justify_content": null,
            "justify_items": null,
            "left": null,
            "margin": null,
            "max_height": null,
            "max_width": null,
            "min_height": null,
            "min_width": null,
            "object_fit": null,
            "object_position": null,
            "order": null,
            "overflow": null,
            "overflow_x": null,
            "overflow_y": null,
            "padding": null,
            "right": null,
            "top": null,
            "visibility": null,
            "width": null
          }
        },
        "76df327143e84f94b9a22b17c36c6ec3": {
          "model_module": "@jupyter-widgets/controls",
          "model_module_version": "1.5.0",
          "model_name": "HTMLModel",
          "state": {
            "_dom_classes": [],
            "_model_module": "@jupyter-widgets/controls",
            "_model_module_version": "1.5.0",
            "_model_name": "HTMLModel",
            "_view_count": null,
            "_view_module": "@jupyter-widgets/controls",
            "_view_module_version": "1.5.0",
            "_view_name": "HTMLView",
            "description": "",
            "description_tooltip": null,
            "layout": "IPY_MODEL_65fd39e80b8a49bb9cb2f8e4d63ad1a5",
            "placeholder": "​",
            "style": "IPY_MODEL_e7284039f7374a0ca92d6a2341be87ae",
            "value": " 208k/208k [00:00&lt;00:00, 343kB/s]"
          }
        },
        "77aa1fa5f0c94ff5af381440ca67a0a8": {
          "model_module": "@jupyter-widgets/controls",
          "model_module_version": "1.5.0",
          "model_name": "HTMLModel",
          "state": {
            "_dom_classes": [],
            "_model_module": "@jupyter-widgets/controls",
            "_model_module_version": "1.5.0",
            "_model_name": "HTMLModel",
            "_view_count": null,
            "_view_module": "@jupyter-widgets/controls",
            "_view_module_version": "1.5.0",
            "_view_name": "HTMLView",
            "description": "",
            "description_tooltip": null,
            "layout": "IPY_MODEL_2d82d4b563c44c499b1ba2b425a9b01a",
            "placeholder": "​",
            "style": "IPY_MODEL_c42b044a2ccc464298bcdd45919a2ec2",
            "value": "Downloading: 100%"
          }
        },
        "77e7c46de82d4d16a0f9a41f75a6f21d": {
          "model_module": "@jupyter-widgets/controls",
          "model_module_version": "1.5.0",
          "model_name": "ProgressStyleModel",
          "state": {
            "_model_module": "@jupyter-widgets/controls",
            "_model_module_version": "1.5.0",
            "_model_name": "ProgressStyleModel",
            "_view_count": null,
            "_view_module": "@jupyter-widgets/base",
            "_view_module_version": "1.2.0",
            "_view_name": "StyleView",
            "bar_color": null,
            "description_width": ""
          }
        },
        "79936454a8d745c39e03d137a805e62e": {
          "model_module": "@jupyter-widgets/controls",
          "model_module_version": "1.5.0",
          "model_name": "ProgressStyleModel",
          "state": {
            "_model_module": "@jupyter-widgets/controls",
            "_model_module_version": "1.5.0",
            "_model_name": "ProgressStyleModel",
            "_view_count": null,
            "_view_module": "@jupyter-widgets/base",
            "_view_module_version": "1.2.0",
            "_view_name": "StyleView",
            "bar_color": null,
            "description_width": ""
          }
        },
        "7caf9b5b8ebd41f68f822e0b718d84e3": {
          "model_module": "@jupyter-widgets/base",
          "model_module_version": "1.2.0",
          "model_name": "LayoutModel",
          "state": {
            "_model_module": "@jupyter-widgets/base",
            "_model_module_version": "1.2.0",
            "_model_name": "LayoutModel",
            "_view_count": null,
            "_view_module": "@jupyter-widgets/base",
            "_view_module_version": "1.2.0",
            "_view_name": "LayoutView",
            "align_content": null,
            "align_items": null,
            "align_self": null,
            "border": null,
            "bottom": null,
            "display": null,
            "flex": null,
            "flex_flow": null,
            "grid_area": null,
            "grid_auto_columns": null,
            "grid_auto_flow": null,
            "grid_auto_rows": null,
            "grid_column": null,
            "grid_gap": null,
            "grid_row": null,
            "grid_template_areas": null,
            "grid_template_columns": null,
            "grid_template_rows": null,
            "height": null,
            "justify_content": null,
            "justify_items": null,
            "left": null,
            "margin": null,
            "max_height": null,
            "max_width": null,
            "min_height": null,
            "min_width": null,
            "object_fit": null,
            "object_position": null,
            "order": null,
            "overflow": null,
            "overflow_x": null,
            "overflow_y": null,
            "padding": null,
            "right": null,
            "top": null,
            "visibility": null,
            "width": null
          }
        },
        "7e076d237569432e841f3ff61d62db40": {
          "model_module": "@jupyter-widgets/controls",
          "model_module_version": "1.5.0",
          "model_name": "HTMLModel",
          "state": {
            "_dom_classes": [],
            "_model_module": "@jupyter-widgets/controls",
            "_model_module_version": "1.5.0",
            "_model_name": "HTMLModel",
            "_view_count": null,
            "_view_module": "@jupyter-widgets/controls",
            "_view_module_version": "1.5.0",
            "_view_name": "HTMLView",
            "description": "",
            "description_tooltip": null,
            "layout": "IPY_MODEL_be3c15de14014903b537bda1836be55b",
            "placeholder": "​",
            "style": "IPY_MODEL_3da6d3d347d343cf85a9b0fc906e3792",
            "value": "Downloading: 100%"
          }
        },
        "80864c59e2d54762908d89d206273485": {
          "model_module": "@jupyter-widgets/controls",
          "model_module_version": "1.5.0",
          "model_name": "HBoxModel",
          "state": {
            "_dom_classes": [],
            "_model_module": "@jupyter-widgets/controls",
            "_model_module_version": "1.5.0",
            "_model_name": "HBoxModel",
            "_view_count": null,
            "_view_module": "@jupyter-widgets/controls",
            "_view_module_version": "1.5.0",
            "_view_name": "HBoxView",
            "box_style": "",
            "children": [
              "IPY_MODEL_fcce36fceac34690aab46c2f1066d8dc",
              "IPY_MODEL_174dbd57be48433c99cb7402acfdcb5b",
              "IPY_MODEL_59f188cb9f8d4e34b92329b470e460f4"
            ],
            "layout": "IPY_MODEL_a88dee73b86f4a42b924a740d4c37263"
          }
        },
        "8284af66b7af466c8380a0ebc37c3750": {
          "model_module": "@jupyter-widgets/controls",
          "model_module_version": "1.5.0",
          "model_name": "HTMLModel",
          "state": {
            "_dom_classes": [],
            "_model_module": "@jupyter-widgets/controls",
            "_model_module_version": "1.5.0",
            "_model_name": "HTMLModel",
            "_view_count": null,
            "_view_module": "@jupyter-widgets/controls",
            "_view_module_version": "1.5.0",
            "_view_name": "HTMLView",
            "description": "",
            "description_tooltip": null,
            "layout": "IPY_MODEL_43a37938eefa45bd82804660f9172f59",
            "placeholder": "​",
            "style": "IPY_MODEL_0abd12e828a84bba8eaf1cbed15f4ce0",
            "value": " 28.0/28.0 [00:00&lt;00:00, 583B/s]"
          }
        },
        "8678869107b748049e5d3a079600c909": {
          "model_module": "@jupyter-widgets/base",
          "model_module_version": "1.2.0",
          "model_name": "LayoutModel",
          "state": {
            "_model_module": "@jupyter-widgets/base",
            "_model_module_version": "1.2.0",
            "_model_name": "LayoutModel",
            "_view_count": null,
            "_view_module": "@jupyter-widgets/base",
            "_view_module_version": "1.2.0",
            "_view_name": "LayoutView",
            "align_content": null,
            "align_items": null,
            "align_self": null,
            "border": null,
            "bottom": null,
            "display": null,
            "flex": null,
            "flex_flow": null,
            "grid_area": null,
            "grid_auto_columns": null,
            "grid_auto_flow": null,
            "grid_auto_rows": null,
            "grid_column": null,
            "grid_gap": null,
            "grid_row": null,
            "grid_template_areas": null,
            "grid_template_columns": null,
            "grid_template_rows": null,
            "height": null,
            "justify_content": null,
            "justify_items": null,
            "left": null,
            "margin": null,
            "max_height": null,
            "max_width": null,
            "min_height": null,
            "min_width": null,
            "object_fit": null,
            "object_position": null,
            "order": null,
            "overflow": null,
            "overflow_x": null,
            "overflow_y": null,
            "padding": null,
            "right": null,
            "top": null,
            "visibility": null,
            "width": null
          }
        },
        "876296c071c344bf865407fe0b89addb": {
          "model_module": "@jupyter-widgets/controls",
          "model_module_version": "1.5.0",
          "model_name": "DescriptionStyleModel",
          "state": {
            "_model_module": "@jupyter-widgets/controls",
            "_model_module_version": "1.5.0",
            "_model_name": "DescriptionStyleModel",
            "_view_count": null,
            "_view_module": "@jupyter-widgets/base",
            "_view_module_version": "1.2.0",
            "_view_name": "StyleView",
            "description_width": ""
          }
        },
        "8ad5914fcbaa4baca5f3290a5299c658": {
          "model_module": "@jupyter-widgets/controls",
          "model_module_version": "1.5.0",
          "model_name": "DescriptionStyleModel",
          "state": {
            "_model_module": "@jupyter-widgets/controls",
            "_model_module_version": "1.5.0",
            "_model_name": "DescriptionStyleModel",
            "_view_count": null,
            "_view_module": "@jupyter-widgets/base",
            "_view_module_version": "1.2.0",
            "_view_name": "StyleView",
            "description_width": ""
          }
        },
        "8c92e43e58914afa915812a7d19a251c": {
          "model_module": "@jupyter-widgets/controls",
          "model_module_version": "1.5.0",
          "model_name": "DescriptionStyleModel",
          "state": {
            "_model_module": "@jupyter-widgets/controls",
            "_model_module_version": "1.5.0",
            "_model_name": "DescriptionStyleModel",
            "_view_count": null,
            "_view_module": "@jupyter-widgets/base",
            "_view_module_version": "1.2.0",
            "_view_name": "StyleView",
            "description_width": ""
          }
        },
        "8cf311453f4a4fbe9d67492a63e306b6": {
          "model_module": "@jupyter-widgets/controls",
          "model_module_version": "1.5.0",
          "model_name": "HTMLModel",
          "state": {
            "_dom_classes": [],
            "_model_module": "@jupyter-widgets/controls",
            "_model_module_version": "1.5.0",
            "_model_name": "HTMLModel",
            "_view_count": null,
            "_view_module": "@jupyter-widgets/controls",
            "_view_module_version": "1.5.0",
            "_view_name": "HTMLView",
            "description": "",
            "description_tooltip": null,
            "layout": "IPY_MODEL_9c6b4368c2034c17830ab8832aca9616",
            "placeholder": "​",
            "style": "IPY_MODEL_876296c071c344bf865407fe0b89addb",
            "value": " 570/570 [00:00&lt;00:00, 11.1kB/s]"
          }
        },
        "8f30101f1c1e4a5aa5437dcca1713390": {
          "model_module": "@jupyter-widgets/base",
          "model_module_version": "1.2.0",
          "model_name": "LayoutModel",
          "state": {
            "_model_module": "@jupyter-widgets/base",
            "_model_module_version": "1.2.0",
            "_model_name": "LayoutModel",
            "_view_count": null,
            "_view_module": "@jupyter-widgets/base",
            "_view_module_version": "1.2.0",
            "_view_name": "LayoutView",
            "align_content": null,
            "align_items": null,
            "align_self": null,
            "border": null,
            "bottom": null,
            "display": null,
            "flex": null,
            "flex_flow": null,
            "grid_area": null,
            "grid_auto_columns": null,
            "grid_auto_flow": null,
            "grid_auto_rows": null,
            "grid_column": null,
            "grid_gap": null,
            "grid_row": null,
            "grid_template_areas": null,
            "grid_template_columns": null,
            "grid_template_rows": null,
            "height": null,
            "justify_content": null,
            "justify_items": null,
            "left": null,
            "margin": null,
            "max_height": null,
            "max_width": null,
            "min_height": null,
            "min_width": null,
            "object_fit": null,
            "object_position": null,
            "order": null,
            "overflow": null,
            "overflow_x": null,
            "overflow_y": null,
            "padding": null,
            "right": null,
            "top": null,
            "visibility": null,
            "width": null
          }
        },
        "911a306a9f2a4e3fad3cbe7c0d095a59": {
          "model_module": "@jupyter-widgets/controls",
          "model_module_version": "1.5.0",
          "model_name": "DescriptionStyleModel",
          "state": {
            "_model_module": "@jupyter-widgets/controls",
            "_model_module_version": "1.5.0",
            "_model_name": "DescriptionStyleModel",
            "_view_count": null,
            "_view_module": "@jupyter-widgets/base",
            "_view_module_version": "1.2.0",
            "_view_name": "StyleView",
            "description_width": ""
          }
        },
        "98f79149eaf444539670692c4fb6e8c1": {
          "model_module": "@jupyter-widgets/controls",
          "model_module_version": "1.5.0",
          "model_name": "HTMLModel",
          "state": {
            "_dom_classes": [],
            "_model_module": "@jupyter-widgets/controls",
            "_model_module_version": "1.5.0",
            "_model_name": "HTMLModel",
            "_view_count": null,
            "_view_module": "@jupyter-widgets/controls",
            "_view_module_version": "1.5.0",
            "_view_name": "HTMLView",
            "description": "",
            "description_tooltip": null,
            "layout": "IPY_MODEL_fac42091936546578a501aaa4f2bd1d2",
            "placeholder": "​",
            "style": "IPY_MODEL_e3addab9c2d2460a81755c04af789424",
            "value": "Downloading: 100%"
          }
        },
        "9abc58422f9a45679d4b84a862194fa1": {
          "model_module": "@jupyter-widgets/base",
          "model_module_version": "1.2.0",
          "model_name": "LayoutModel",
          "state": {
            "_model_module": "@jupyter-widgets/base",
            "_model_module_version": "1.2.0",
            "_model_name": "LayoutModel",
            "_view_count": null,
            "_view_module": "@jupyter-widgets/base",
            "_view_module_version": "1.2.0",
            "_view_name": "LayoutView",
            "align_content": null,
            "align_items": null,
            "align_self": null,
            "border": null,
            "bottom": null,
            "display": null,
            "flex": null,
            "flex_flow": null,
            "grid_area": null,
            "grid_auto_columns": null,
            "grid_auto_flow": null,
            "grid_auto_rows": null,
            "grid_column": null,
            "grid_gap": null,
            "grid_row": null,
            "grid_template_areas": null,
            "grid_template_columns": null,
            "grid_template_rows": null,
            "height": null,
            "justify_content": null,
            "justify_items": null,
            "left": null,
            "margin": null,
            "max_height": null,
            "max_width": null,
            "min_height": null,
            "min_width": null,
            "object_fit": null,
            "object_position": null,
            "order": null,
            "overflow": null,
            "overflow_x": null,
            "overflow_y": null,
            "padding": null,
            "right": null,
            "top": null,
            "visibility": null,
            "width": null
          }
        },
        "9c6b4368c2034c17830ab8832aca9616": {
          "model_module": "@jupyter-widgets/base",
          "model_module_version": "1.2.0",
          "model_name": "LayoutModel",
          "state": {
            "_model_module": "@jupyter-widgets/base",
            "_model_module_version": "1.2.0",
            "_model_name": "LayoutModel",
            "_view_count": null,
            "_view_module": "@jupyter-widgets/base",
            "_view_module_version": "1.2.0",
            "_view_name": "LayoutView",
            "align_content": null,
            "align_items": null,
            "align_self": null,
            "border": null,
            "bottom": null,
            "display": null,
            "flex": null,
            "flex_flow": null,
            "grid_area": null,
            "grid_auto_columns": null,
            "grid_auto_flow": null,
            "grid_auto_rows": null,
            "grid_column": null,
            "grid_gap": null,
            "grid_row": null,
            "grid_template_areas": null,
            "grid_template_columns": null,
            "grid_template_rows": null,
            "height": null,
            "justify_content": null,
            "justify_items": null,
            "left": null,
            "margin": null,
            "max_height": null,
            "max_width": null,
            "min_height": null,
            "min_width": null,
            "object_fit": null,
            "object_position": null,
            "order": null,
            "overflow": null,
            "overflow_x": null,
            "overflow_y": null,
            "padding": null,
            "right": null,
            "top": null,
            "visibility": null,
            "width": null
          }
        },
        "9cb83b67c3924eeb9891a610a24af936": {
          "model_module": "@jupyter-widgets/base",
          "model_module_version": "1.2.0",
          "model_name": "LayoutModel",
          "state": {
            "_model_module": "@jupyter-widgets/base",
            "_model_module_version": "1.2.0",
            "_model_name": "LayoutModel",
            "_view_count": null,
            "_view_module": "@jupyter-widgets/base",
            "_view_module_version": "1.2.0",
            "_view_name": "LayoutView",
            "align_content": null,
            "align_items": null,
            "align_self": null,
            "border": null,
            "bottom": null,
            "display": null,
            "flex": null,
            "flex_flow": null,
            "grid_area": null,
            "grid_auto_columns": null,
            "grid_auto_flow": null,
            "grid_auto_rows": null,
            "grid_column": null,
            "grid_gap": null,
            "grid_row": null,
            "grid_template_areas": null,
            "grid_template_columns": null,
            "grid_template_rows": null,
            "height": null,
            "justify_content": null,
            "justify_items": null,
            "left": null,
            "margin": null,
            "max_height": null,
            "max_width": null,
            "min_height": null,
            "min_width": null,
            "object_fit": null,
            "object_position": null,
            "order": null,
            "overflow": null,
            "overflow_x": null,
            "overflow_y": null,
            "padding": null,
            "right": null,
            "top": null,
            "visibility": null,
            "width": null
          }
        },
        "a3dfa241a82a4dac9fc18b6c7ea4f6e6": {
          "model_module": "@jupyter-widgets/controls",
          "model_module_version": "1.5.0",
          "model_name": "HTMLModel",
          "state": {
            "_dom_classes": [],
            "_model_module": "@jupyter-widgets/controls",
            "_model_module_version": "1.5.0",
            "_model_name": "HTMLModel",
            "_view_count": null,
            "_view_module": "@jupyter-widgets/controls",
            "_view_module_version": "1.5.0",
            "_view_name": "HTMLView",
            "description": "",
            "description_tooltip": null,
            "layout": "IPY_MODEL_58f8a85f5aca4747a3ad23e8624cf1f7",
            "placeholder": "​",
            "style": "IPY_MODEL_5ee970c145d34e0da7549ac65c8813a6",
            "value": "Downloading: 100%"
          }
        },
        "a60598497acb40e7be3f3f0025751737": {
          "model_module": "@jupyter-widgets/controls",
          "model_module_version": "1.5.0",
          "model_name": "DescriptionStyleModel",
          "state": {
            "_model_module": "@jupyter-widgets/controls",
            "_model_module_version": "1.5.0",
            "_model_name": "DescriptionStyleModel",
            "_view_count": null,
            "_view_module": "@jupyter-widgets/base",
            "_view_module_version": "1.2.0",
            "_view_name": "StyleView",
            "description_width": ""
          }
        },
        "a88dee73b86f4a42b924a740d4c37263": {
          "model_module": "@jupyter-widgets/base",
          "model_module_version": "1.2.0",
          "model_name": "LayoutModel",
          "state": {
            "_model_module": "@jupyter-widgets/base",
            "_model_module_version": "1.2.0",
            "_model_name": "LayoutModel",
            "_view_count": null,
            "_view_module": "@jupyter-widgets/base",
            "_view_module_version": "1.2.0",
            "_view_name": "LayoutView",
            "align_content": null,
            "align_items": null,
            "align_self": null,
            "border": null,
            "bottom": null,
            "display": null,
            "flex": null,
            "flex_flow": null,
            "grid_area": null,
            "grid_auto_columns": null,
            "grid_auto_flow": null,
            "grid_auto_rows": null,
            "grid_column": null,
            "grid_gap": null,
            "grid_row": null,
            "grid_template_areas": null,
            "grid_template_columns": null,
            "grid_template_rows": null,
            "height": null,
            "justify_content": null,
            "justify_items": null,
            "left": null,
            "margin": null,
            "max_height": null,
            "max_width": null,
            "min_height": null,
            "min_width": null,
            "object_fit": null,
            "object_position": null,
            "order": null,
            "overflow": null,
            "overflow_x": null,
            "overflow_y": null,
            "padding": null,
            "right": null,
            "top": null,
            "visibility": null,
            "width": null
          }
        },
        "adeda402ea4145c5835d79ccc345f69f": {
          "model_module": "@jupyter-widgets/controls",
          "model_module_version": "1.5.0",
          "model_name": "ProgressStyleModel",
          "state": {
            "_model_module": "@jupyter-widgets/controls",
            "_model_module_version": "1.5.0",
            "_model_name": "ProgressStyleModel",
            "_view_count": null,
            "_view_module": "@jupyter-widgets/base",
            "_view_module_version": "1.2.0",
            "_view_name": "StyleView",
            "bar_color": null,
            "description_width": ""
          }
        },
        "ae95ca95b42848a5bdbc8e28b99374d0": {
          "model_module": "@jupyter-widgets/controls",
          "model_module_version": "1.5.0",
          "model_name": "HTMLModel",
          "state": {
            "_dom_classes": [],
            "_model_module": "@jupyter-widgets/controls",
            "_model_module_version": "1.5.0",
            "_model_name": "HTMLModel",
            "_view_count": null,
            "_view_module": "@jupyter-widgets/controls",
            "_view_module_version": "1.5.0",
            "_view_name": "HTMLView",
            "description": "",
            "description_tooltip": null,
            "layout": "IPY_MODEL_b5a8849245064800816fc1bf48c9adda",
            "placeholder": "​",
            "style": "IPY_MODEL_e26356411ab64f609c7c7c8e59f5f864",
            "value": " 347M/347M [00:08&lt;00:00, 44.2MB/s]"
          }
        },
        "b341c07417ef42f08bc8762c561433e6": {
          "model_module": "@jupyter-widgets/controls",
          "model_module_version": "1.5.0",
          "model_name": "FloatProgressModel",
          "state": {
            "_dom_classes": [],
            "_model_module": "@jupyter-widgets/controls",
            "_model_module_version": "1.5.0",
            "_model_name": "FloatProgressModel",
            "_view_count": null,
            "_view_module": "@jupyter-widgets/controls",
            "_view_module_version": "1.5.0",
            "_view_name": "ProgressView",
            "bar_style": "success",
            "description": "",
            "description_tooltip": null,
            "layout": "IPY_MODEL_6c26468176554937938602852884b753",
            "max": 483,
            "min": 0,
            "orientation": "horizontal",
            "style": "IPY_MODEL_d7456ec69e9c43718c572c1ad0cff98e",
            "value": 483
          }
        },
        "b4f98564298748c3a05a6090d299e53a": {
          "model_module": "@jupyter-widgets/controls",
          "model_module_version": "1.5.0",
          "model_name": "HTMLModel",
          "state": {
            "_dom_classes": [],
            "_model_module": "@jupyter-widgets/controls",
            "_model_module_version": "1.5.0",
            "_model_name": "HTMLModel",
            "_view_count": null,
            "_view_module": "@jupyter-widgets/controls",
            "_view_module_version": "1.5.0",
            "_view_name": "HTMLView",
            "description": "",
            "description_tooltip": null,
            "layout": "IPY_MODEL_22ace10ea89e4bb1865b4eec4acb4cf4",
            "placeholder": "​",
            "style": "IPY_MODEL_0a3bf527c5bf49abb06f007df66802a0",
            "value": "Downloading: 100%"
          }
        },
        "b5804c062ed148f3868af8bd53444320": {
          "model_module": "@jupyter-widgets/controls",
          "model_module_version": "1.5.0",
          "model_name": "ProgressStyleModel",
          "state": {
            "_model_module": "@jupyter-widgets/controls",
            "_model_module_version": "1.5.0",
            "_model_name": "ProgressStyleModel",
            "_view_count": null,
            "_view_module": "@jupyter-widgets/base",
            "_view_module_version": "1.2.0",
            "_view_name": "StyleView",
            "bar_color": null,
            "description_width": ""
          }
        },
        "b5a8849245064800816fc1bf48c9adda": {
          "model_module": "@jupyter-widgets/base",
          "model_module_version": "1.2.0",
          "model_name": "LayoutModel",
          "state": {
            "_model_module": "@jupyter-widgets/base",
            "_model_module_version": "1.2.0",
            "_model_name": "LayoutModel",
            "_view_count": null,
            "_view_module": "@jupyter-widgets/base",
            "_view_module_version": "1.2.0",
            "_view_name": "LayoutView",
            "align_content": null,
            "align_items": null,
            "align_self": null,
            "border": null,
            "bottom": null,
            "display": null,
            "flex": null,
            "flex_flow": null,
            "grid_area": null,
            "grid_auto_columns": null,
            "grid_auto_flow": null,
            "grid_auto_rows": null,
            "grid_column": null,
            "grid_gap": null,
            "grid_row": null,
            "grid_template_areas": null,
            "grid_template_columns": null,
            "grid_template_rows": null,
            "height": null,
            "justify_content": null,
            "justify_items": null,
            "left": null,
            "margin": null,
            "max_height": null,
            "max_width": null,
            "min_height": null,
            "min_width": null,
            "object_fit": null,
            "object_position": null,
            "order": null,
            "overflow": null,
            "overflow_x": null,
            "overflow_y": null,
            "padding": null,
            "right": null,
            "top": null,
            "visibility": null,
            "width": null
          }
        },
        "bc566667d785444680238a2bf88a74ca": {
          "model_module": "@jupyter-widgets/controls",
          "model_module_version": "1.5.0",
          "model_name": "HTMLModel",
          "state": {
            "_dom_classes": [],
            "_model_module": "@jupyter-widgets/controls",
            "_model_module_version": "1.5.0",
            "_model_name": "HTMLModel",
            "_view_count": null,
            "_view_module": "@jupyter-widgets/controls",
            "_view_module_version": "1.5.0",
            "_view_name": "HTMLView",
            "description": "",
            "description_tooltip": null,
            "layout": "IPY_MODEL_f2a444d4de3a424e9e84e3c127217aa2",
            "placeholder": "​",
            "style": "IPY_MODEL_a60598497acb40e7be3f3f0025751737",
            "value": " 29.0/29.0 [00:00&lt;00:00, 745B/s]"
          }
        },
        "be3c15de14014903b537bda1836be55b": {
          "model_module": "@jupyter-widgets/base",
          "model_module_version": "1.2.0",
          "model_name": "LayoutModel",
          "state": {
            "_model_module": "@jupyter-widgets/base",
            "_model_module_version": "1.2.0",
            "_model_name": "LayoutModel",
            "_view_count": null,
            "_view_module": "@jupyter-widgets/base",
            "_view_module_version": "1.2.0",
            "_view_name": "LayoutView",
            "align_content": null,
            "align_items": null,
            "align_self": null,
            "border": null,
            "bottom": null,
            "display": null,
            "flex": null,
            "flex_flow": null,
            "grid_area": null,
            "grid_auto_columns": null,
            "grid_auto_flow": null,
            "grid_auto_rows": null,
            "grid_column": null,
            "grid_gap": null,
            "grid_row": null,
            "grid_template_areas": null,
            "grid_template_columns": null,
            "grid_template_rows": null,
            "height": null,
            "justify_content": null,
            "justify_items": null,
            "left": null,
            "margin": null,
            "max_height": null,
            "max_width": null,
            "min_height": null,
            "min_width": null,
            "object_fit": null,
            "object_position": null,
            "order": null,
            "overflow": null,
            "overflow_x": null,
            "overflow_y": null,
            "padding": null,
            "right": null,
            "top": null,
            "visibility": null,
            "width": null
          }
        },
        "bf7901ba48304a30a327d97d93df66d8": {
          "model_module": "@jupyter-widgets/base",
          "model_module_version": "1.2.0",
          "model_name": "LayoutModel",
          "state": {
            "_model_module": "@jupyter-widgets/base",
            "_model_module_version": "1.2.0",
            "_model_name": "LayoutModel",
            "_view_count": null,
            "_view_module": "@jupyter-widgets/base",
            "_view_module_version": "1.2.0",
            "_view_name": "LayoutView",
            "align_content": null,
            "align_items": null,
            "align_self": null,
            "border": null,
            "bottom": null,
            "display": null,
            "flex": null,
            "flex_flow": null,
            "grid_area": null,
            "grid_auto_columns": null,
            "grid_auto_flow": null,
            "grid_auto_rows": null,
            "grid_column": null,
            "grid_gap": null,
            "grid_row": null,
            "grid_template_areas": null,
            "grid_template_columns": null,
            "grid_template_rows": null,
            "height": null,
            "justify_content": null,
            "justify_items": null,
            "left": null,
            "margin": null,
            "max_height": null,
            "max_width": null,
            "min_height": null,
            "min_width": null,
            "object_fit": null,
            "object_position": null,
            "order": null,
            "overflow": null,
            "overflow_x": null,
            "overflow_y": null,
            "padding": null,
            "right": null,
            "top": null,
            "visibility": null,
            "width": null
          }
        },
        "c15107f875504036bd15a8949eb994a8": {
          "model_module": "@jupyter-widgets/base",
          "model_module_version": "1.2.0",
          "model_name": "LayoutModel",
          "state": {
            "_model_module": "@jupyter-widgets/base",
            "_model_module_version": "1.2.0",
            "_model_name": "LayoutModel",
            "_view_count": null,
            "_view_module": "@jupyter-widgets/base",
            "_view_module_version": "1.2.0",
            "_view_name": "LayoutView",
            "align_content": null,
            "align_items": null,
            "align_self": null,
            "border": null,
            "bottom": null,
            "display": null,
            "flex": null,
            "flex_flow": null,
            "grid_area": null,
            "grid_auto_columns": null,
            "grid_auto_flow": null,
            "grid_auto_rows": null,
            "grid_column": null,
            "grid_gap": null,
            "grid_row": null,
            "grid_template_areas": null,
            "grid_template_columns": null,
            "grid_template_rows": null,
            "height": null,
            "justify_content": null,
            "justify_items": null,
            "left": null,
            "margin": null,
            "max_height": null,
            "max_width": null,
            "min_height": null,
            "min_width": null,
            "object_fit": null,
            "object_position": null,
            "order": null,
            "overflow": null,
            "overflow_x": null,
            "overflow_y": null,
            "padding": null,
            "right": null,
            "top": null,
            "visibility": null,
            "width": null
          }
        },
        "c42b044a2ccc464298bcdd45919a2ec2": {
          "model_module": "@jupyter-widgets/controls",
          "model_module_version": "1.5.0",
          "model_name": "DescriptionStyleModel",
          "state": {
            "_model_module": "@jupyter-widgets/controls",
            "_model_module_version": "1.5.0",
            "_model_name": "DescriptionStyleModel",
            "_view_count": null,
            "_view_module": "@jupyter-widgets/base",
            "_view_module_version": "1.2.0",
            "_view_name": "StyleView",
            "description_width": ""
          }
        },
        "c42d68e927b64277b743746f435d6548": {
          "model_module": "@jupyter-widgets/base",
          "model_module_version": "1.2.0",
          "model_name": "LayoutModel",
          "state": {
            "_model_module": "@jupyter-widgets/base",
            "_model_module_version": "1.2.0",
            "_model_name": "LayoutModel",
            "_view_count": null,
            "_view_module": "@jupyter-widgets/base",
            "_view_module_version": "1.2.0",
            "_view_name": "LayoutView",
            "align_content": null,
            "align_items": null,
            "align_self": null,
            "border": null,
            "bottom": null,
            "display": null,
            "flex": null,
            "flex_flow": null,
            "grid_area": null,
            "grid_auto_columns": null,
            "grid_auto_flow": null,
            "grid_auto_rows": null,
            "grid_column": null,
            "grid_gap": null,
            "grid_row": null,
            "grid_template_areas": null,
            "grid_template_columns": null,
            "grid_template_rows": null,
            "height": null,
            "justify_content": null,
            "justify_items": null,
            "left": null,
            "margin": null,
            "max_height": null,
            "max_width": null,
            "min_height": null,
            "min_width": null,
            "object_fit": null,
            "object_position": null,
            "order": null,
            "overflow": null,
            "overflow_x": null,
            "overflow_y": null,
            "padding": null,
            "right": null,
            "top": null,
            "visibility": null,
            "width": null
          }
        },
        "c9b804539d254ea7b9ea0163d19c336b": {
          "model_module": "@jupyter-widgets/base",
          "model_module_version": "1.2.0",
          "model_name": "LayoutModel",
          "state": {
            "_model_module": "@jupyter-widgets/base",
            "_model_module_version": "1.2.0",
            "_model_name": "LayoutModel",
            "_view_count": null,
            "_view_module": "@jupyter-widgets/base",
            "_view_module_version": "1.2.0",
            "_view_name": "LayoutView",
            "align_content": null,
            "align_items": null,
            "align_self": null,
            "border": null,
            "bottom": null,
            "display": null,
            "flex": null,
            "flex_flow": null,
            "grid_area": null,
            "grid_auto_columns": null,
            "grid_auto_flow": null,
            "grid_auto_rows": null,
            "grid_column": null,
            "grid_gap": null,
            "grid_row": null,
            "grid_template_areas": null,
            "grid_template_columns": null,
            "grid_template_rows": null,
            "height": null,
            "justify_content": null,
            "justify_items": null,
            "left": null,
            "margin": null,
            "max_height": null,
            "max_width": null,
            "min_height": null,
            "min_width": null,
            "object_fit": null,
            "object_position": null,
            "order": null,
            "overflow": null,
            "overflow_x": null,
            "overflow_y": null,
            "padding": null,
            "right": null,
            "top": null,
            "visibility": null,
            "width": null
          }
        },
        "d407864dc4914e618fba904f5133df1f": {
          "model_module": "@jupyter-widgets/controls",
          "model_module_version": "1.5.0",
          "model_name": "HTMLModel",
          "state": {
            "_dom_classes": [],
            "_model_module": "@jupyter-widgets/controls",
            "_model_module_version": "1.5.0",
            "_model_name": "HTMLModel",
            "_view_count": null,
            "_view_module": "@jupyter-widgets/controls",
            "_view_module_version": "1.5.0",
            "_view_name": "HTMLView",
            "description": "",
            "description_tooltip": null,
            "layout": "IPY_MODEL_e3d3f577f1c34449aa9f153035eb9fda",
            "placeholder": "​",
            "style": "IPY_MODEL_f93cf61849bc442191ef95bd6c42ad3e",
            "value": " 226k/226k [00:00&lt;00:00, 1.76MB/s]"
          }
        },
        "d7456ec69e9c43718c572c1ad0cff98e": {
          "model_module": "@jupyter-widgets/controls",
          "model_module_version": "1.5.0",
          "model_name": "ProgressStyleModel",
          "state": {
            "_model_module": "@jupyter-widgets/controls",
            "_model_module_version": "1.5.0",
            "_model_name": "ProgressStyleModel",
            "_view_count": null,
            "_view_module": "@jupyter-widgets/base",
            "_view_module_version": "1.2.0",
            "_view_name": "StyleView",
            "bar_color": null,
            "description_width": ""
          }
        },
        "dcf69beaa70d488ea778fc3a79e1f107": {
          "model_module": "@jupyter-widgets/controls",
          "model_module_version": "1.5.0",
          "model_name": "DescriptionStyleModel",
          "state": {
            "_model_module": "@jupyter-widgets/controls",
            "_model_module_version": "1.5.0",
            "_model_name": "DescriptionStyleModel",
            "_view_count": null,
            "_view_module": "@jupyter-widgets/base",
            "_view_module_version": "1.2.0",
            "_view_name": "StyleView",
            "description_width": ""
          }
        },
        "dd7f7ba126d04bff9b3674e69aada554": {
          "model_module": "@jupyter-widgets/controls",
          "model_module_version": "1.5.0",
          "model_name": "HTMLModel",
          "state": {
            "_dom_classes": [],
            "_model_module": "@jupyter-widgets/controls",
            "_model_module_version": "1.5.0",
            "_model_name": "HTMLModel",
            "_view_count": null,
            "_view_module": "@jupyter-widgets/controls",
            "_view_module_version": "1.5.0",
            "_view_name": "HTMLView",
            "description": "",
            "description_tooltip": null,
            "layout": "IPY_MODEL_74d15da9fc1c4b9a9289ff6a577bf8b6",
            "placeholder": "​",
            "style": "IPY_MODEL_8c92e43e58914afa915812a7d19a251c",
            "value": "Downloading: 100%"
          }
        },
        "e107daff496846a781ca348d193182a6": {
          "model_module": "@jupyter-widgets/base",
          "model_module_version": "1.2.0",
          "model_name": "LayoutModel",
          "state": {
            "_model_module": "@jupyter-widgets/base",
            "_model_module_version": "1.2.0",
            "_model_name": "LayoutModel",
            "_view_count": null,
            "_view_module": "@jupyter-widgets/base",
            "_view_module_version": "1.2.0",
            "_view_name": "LayoutView",
            "align_content": null,
            "align_items": null,
            "align_self": null,
            "border": null,
            "bottom": null,
            "display": null,
            "flex": null,
            "flex_flow": null,
            "grid_area": null,
            "grid_auto_columns": null,
            "grid_auto_flow": null,
            "grid_auto_rows": null,
            "grid_column": null,
            "grid_gap": null,
            "grid_row": null,
            "grid_template_areas": null,
            "grid_template_columns": null,
            "grid_template_rows": null,
            "height": null,
            "justify_content": null,
            "justify_items": null,
            "left": null,
            "margin": null,
            "max_height": null,
            "max_width": null,
            "min_height": null,
            "min_width": null,
            "object_fit": null,
            "object_position": null,
            "order": null,
            "overflow": null,
            "overflow_x": null,
            "overflow_y": null,
            "padding": null,
            "right": null,
            "top": null,
            "visibility": null,
            "width": null
          }
        },
        "e26356411ab64f609c7c7c8e59f5f864": {
          "model_module": "@jupyter-widgets/controls",
          "model_module_version": "1.5.0",
          "model_name": "DescriptionStyleModel",
          "state": {
            "_model_module": "@jupyter-widgets/controls",
            "_model_module_version": "1.5.0",
            "_model_name": "DescriptionStyleModel",
            "_view_count": null,
            "_view_module": "@jupyter-widgets/base",
            "_view_module_version": "1.2.0",
            "_view_name": "StyleView",
            "description_width": ""
          }
        },
        "e2d02b526bbc4254bbd5d44e5f0885ee": {
          "model_module": "@jupyter-widgets/base",
          "model_module_version": "1.2.0",
          "model_name": "LayoutModel",
          "state": {
            "_model_module": "@jupyter-widgets/base",
            "_model_module_version": "1.2.0",
            "_model_name": "LayoutModel",
            "_view_count": null,
            "_view_module": "@jupyter-widgets/base",
            "_view_module_version": "1.2.0",
            "_view_name": "LayoutView",
            "align_content": null,
            "align_items": null,
            "align_self": null,
            "border": null,
            "bottom": null,
            "display": null,
            "flex": null,
            "flex_flow": null,
            "grid_area": null,
            "grid_auto_columns": null,
            "grid_auto_flow": null,
            "grid_auto_rows": null,
            "grid_column": null,
            "grid_gap": null,
            "grid_row": null,
            "grid_template_areas": null,
            "grid_template_columns": null,
            "grid_template_rows": null,
            "height": null,
            "justify_content": null,
            "justify_items": null,
            "left": null,
            "margin": null,
            "max_height": null,
            "max_width": null,
            "min_height": null,
            "min_width": null,
            "object_fit": null,
            "object_position": null,
            "order": null,
            "overflow": null,
            "overflow_x": null,
            "overflow_y": null,
            "padding": null,
            "right": null,
            "top": null,
            "visibility": null,
            "width": null
          }
        },
        "e3addab9c2d2460a81755c04af789424": {
          "model_module": "@jupyter-widgets/controls",
          "model_module_version": "1.5.0",
          "model_name": "DescriptionStyleModel",
          "state": {
            "_model_module": "@jupyter-widgets/controls",
            "_model_module_version": "1.5.0",
            "_model_name": "DescriptionStyleModel",
            "_view_count": null,
            "_view_module": "@jupyter-widgets/base",
            "_view_module_version": "1.2.0",
            "_view_name": "StyleView",
            "description_width": ""
          }
        },
        "e3d3f577f1c34449aa9f153035eb9fda": {
          "model_module": "@jupyter-widgets/base",
          "model_module_version": "1.2.0",
          "model_name": "LayoutModel",
          "state": {
            "_model_module": "@jupyter-widgets/base",
            "_model_module_version": "1.2.0",
            "_model_name": "LayoutModel",
            "_view_count": null,
            "_view_module": "@jupyter-widgets/base",
            "_view_module_version": "1.2.0",
            "_view_name": "LayoutView",
            "align_content": null,
            "align_items": null,
            "align_self": null,
            "border": null,
            "bottom": null,
            "display": null,
            "flex": null,
            "flex_flow": null,
            "grid_area": null,
            "grid_auto_columns": null,
            "grid_auto_flow": null,
            "grid_auto_rows": null,
            "grid_column": null,
            "grid_gap": null,
            "grid_row": null,
            "grid_template_areas": null,
            "grid_template_columns": null,
            "grid_template_rows": null,
            "height": null,
            "justify_content": null,
            "justify_items": null,
            "left": null,
            "margin": null,
            "max_height": null,
            "max_width": null,
            "min_height": null,
            "min_width": null,
            "object_fit": null,
            "object_position": null,
            "order": null,
            "overflow": null,
            "overflow_x": null,
            "overflow_y": null,
            "padding": null,
            "right": null,
            "top": null,
            "visibility": null,
            "width": null
          }
        },
        "e4217f0c5d6947e9ade2b7847ffd70b6": {
          "model_module": "@jupyter-widgets/controls",
          "model_module_version": "1.5.0",
          "model_name": "DescriptionStyleModel",
          "state": {
            "_model_module": "@jupyter-widgets/controls",
            "_model_module_version": "1.5.0",
            "_model_name": "DescriptionStyleModel",
            "_view_count": null,
            "_view_module": "@jupyter-widgets/base",
            "_view_module_version": "1.2.0",
            "_view_name": "StyleView",
            "description_width": ""
          }
        },
        "e5d7d44c749544bf8d3001b93f1f2945": {
          "model_module": "@jupyter-widgets/base",
          "model_module_version": "1.2.0",
          "model_name": "LayoutModel",
          "state": {
            "_model_module": "@jupyter-widgets/base",
            "_model_module_version": "1.2.0",
            "_model_name": "LayoutModel",
            "_view_count": null,
            "_view_module": "@jupyter-widgets/base",
            "_view_module_version": "1.2.0",
            "_view_name": "LayoutView",
            "align_content": null,
            "align_items": null,
            "align_self": null,
            "border": null,
            "bottom": null,
            "display": null,
            "flex": null,
            "flex_flow": null,
            "grid_area": null,
            "grid_auto_columns": null,
            "grid_auto_flow": null,
            "grid_auto_rows": null,
            "grid_column": null,
            "grid_gap": null,
            "grid_row": null,
            "grid_template_areas": null,
            "grid_template_columns": null,
            "grid_template_rows": null,
            "height": null,
            "justify_content": null,
            "justify_items": null,
            "left": null,
            "margin": null,
            "max_height": null,
            "max_width": null,
            "min_height": null,
            "min_width": null,
            "object_fit": null,
            "object_position": null,
            "order": null,
            "overflow": null,
            "overflow_x": null,
            "overflow_y": null,
            "padding": null,
            "right": null,
            "top": null,
            "visibility": null,
            "width": null
          }
        },
        "e7284039f7374a0ca92d6a2341be87ae": {
          "model_module": "@jupyter-widgets/controls",
          "model_module_version": "1.5.0",
          "model_name": "DescriptionStyleModel",
          "state": {
            "_model_module": "@jupyter-widgets/controls",
            "_model_module_version": "1.5.0",
            "_model_name": "DescriptionStyleModel",
            "_view_count": null,
            "_view_module": "@jupyter-widgets/base",
            "_view_module_version": "1.2.0",
            "_view_name": "StyleView",
            "description_width": ""
          }
        },
        "ee8ab5cb6200423da7e5f10be62c9909": {
          "model_module": "@jupyter-widgets/controls",
          "model_module_version": "1.5.0",
          "model_name": "HTMLModel",
          "state": {
            "_dom_classes": [],
            "_model_module": "@jupyter-widgets/controls",
            "_model_module_version": "1.5.0",
            "_model_name": "HTMLModel",
            "_view_count": null,
            "_view_module": "@jupyter-widgets/controls",
            "_view_module_version": "1.5.0",
            "_view_name": "HTMLView",
            "description": "",
            "description_tooltip": null,
            "layout": "IPY_MODEL_bf7901ba48304a30a327d97d93df66d8",
            "placeholder": "​",
            "style": "IPY_MODEL_dcf69beaa70d488ea778fc3a79e1f107",
            "value": "Downloading: 100%"
          }
        },
        "f2a444d4de3a424e9e84e3c127217aa2": {
          "model_module": "@jupyter-widgets/base",
          "model_module_version": "1.2.0",
          "model_name": "LayoutModel",
          "state": {
            "_model_module": "@jupyter-widgets/base",
            "_model_module_version": "1.2.0",
            "_model_name": "LayoutModel",
            "_view_count": null,
            "_view_module": "@jupyter-widgets/base",
            "_view_module_version": "1.2.0",
            "_view_name": "LayoutView",
            "align_content": null,
            "align_items": null,
            "align_self": null,
            "border": null,
            "bottom": null,
            "display": null,
            "flex": null,
            "flex_flow": null,
            "grid_area": null,
            "grid_auto_columns": null,
            "grid_auto_flow": null,
            "grid_auto_rows": null,
            "grid_column": null,
            "grid_gap": null,
            "grid_row": null,
            "grid_template_areas": null,
            "grid_template_columns": null,
            "grid_template_rows": null,
            "height": null,
            "justify_content": null,
            "justify_items": null,
            "left": null,
            "margin": null,
            "max_height": null,
            "max_width": null,
            "min_height": null,
            "min_width": null,
            "object_fit": null,
            "object_position": null,
            "order": null,
            "overflow": null,
            "overflow_x": null,
            "overflow_y": null,
            "padding": null,
            "right": null,
            "top": null,
            "visibility": null,
            "width": null
          }
        },
        "f71f1ff2199e4f9ca62bfeea96c1533b": {
          "model_module": "@jupyter-widgets/controls",
          "model_module_version": "1.5.0",
          "model_name": "FloatProgressModel",
          "state": {
            "_dom_classes": [],
            "_model_module": "@jupyter-widgets/controls",
            "_model_module_version": "1.5.0",
            "_model_name": "FloatProgressModel",
            "_view_count": null,
            "_view_module": "@jupyter-widgets/controls",
            "_view_module_version": "1.5.0",
            "_view_name": "ProgressView",
            "bar_style": "success",
            "description": "",
            "description_tooltip": null,
            "layout": "IPY_MODEL_c42d68e927b64277b743746f435d6548",
            "max": 28,
            "min": 0,
            "orientation": "horizontal",
            "style": "IPY_MODEL_79936454a8d745c39e03d137a805e62e",
            "value": 28
          }
        },
        "f93cf61849bc442191ef95bd6c42ad3e": {
          "model_module": "@jupyter-widgets/controls",
          "model_module_version": "1.5.0",
          "model_name": "DescriptionStyleModel",
          "state": {
            "_model_module": "@jupyter-widgets/controls",
            "_model_module_version": "1.5.0",
            "_model_name": "DescriptionStyleModel",
            "_view_count": null,
            "_view_module": "@jupyter-widgets/base",
            "_view_module_version": "1.2.0",
            "_view_name": "StyleView",
            "description_width": ""
          }
        },
        "fa355b3ae8b04cf583a2fff30249cfe7": {
          "model_module": "@jupyter-widgets/controls",
          "model_module_version": "1.5.0",
          "model_name": "DescriptionStyleModel",
          "state": {
            "_model_module": "@jupyter-widgets/controls",
            "_model_module_version": "1.5.0",
            "_model_name": "DescriptionStyleModel",
            "_view_count": null,
            "_view_module": "@jupyter-widgets/base",
            "_view_module_version": "1.2.0",
            "_view_name": "StyleView",
            "description_width": ""
          }
        },
        "fac42091936546578a501aaa4f2bd1d2": {
          "model_module": "@jupyter-widgets/base",
          "model_module_version": "1.2.0",
          "model_name": "LayoutModel",
          "state": {
            "_model_module": "@jupyter-widgets/base",
            "_model_module_version": "1.2.0",
            "_model_name": "LayoutModel",
            "_view_count": null,
            "_view_module": "@jupyter-widgets/base",
            "_view_module_version": "1.2.0",
            "_view_name": "LayoutView",
            "align_content": null,
            "align_items": null,
            "align_self": null,
            "border": null,
            "bottom": null,
            "display": null,
            "flex": null,
            "flex_flow": null,
            "grid_area": null,
            "grid_auto_columns": null,
            "grid_auto_flow": null,
            "grid_auto_rows": null,
            "grid_column": null,
            "grid_gap": null,
            "grid_row": null,
            "grid_template_areas": null,
            "grid_template_columns": null,
            "grid_template_rows": null,
            "height": null,
            "justify_content": null,
            "justify_items": null,
            "left": null,
            "margin": null,
            "max_height": null,
            "max_width": null,
            "min_height": null,
            "min_width": null,
            "object_fit": null,
            "object_position": null,
            "order": null,
            "overflow": null,
            "overflow_x": null,
            "overflow_y": null,
            "padding": null,
            "right": null,
            "top": null,
            "visibility": null,
            "width": null
          }
        },
        "fc06d281c0974f1fbf38549a098aec1c": {
          "model_module": "@jupyter-widgets/base",
          "model_module_version": "1.2.0",
          "model_name": "LayoutModel",
          "state": {
            "_model_module": "@jupyter-widgets/base",
            "_model_module_version": "1.2.0",
            "_model_name": "LayoutModel",
            "_view_count": null,
            "_view_module": "@jupyter-widgets/base",
            "_view_module_version": "1.2.0",
            "_view_name": "LayoutView",
            "align_content": null,
            "align_items": null,
            "align_self": null,
            "border": null,
            "bottom": null,
            "display": null,
            "flex": null,
            "flex_flow": null,
            "grid_area": null,
            "grid_auto_columns": null,
            "grid_auto_flow": null,
            "grid_auto_rows": null,
            "grid_column": null,
            "grid_gap": null,
            "grid_row": null,
            "grid_template_areas": null,
            "grid_template_columns": null,
            "grid_template_rows": null,
            "height": null,
            "justify_content": null,
            "justify_items": null,
            "left": null,
            "margin": null,
            "max_height": null,
            "max_width": null,
            "min_height": null,
            "min_width": null,
            "object_fit": null,
            "object_position": null,
            "order": null,
            "overflow": null,
            "overflow_x": null,
            "overflow_y": null,
            "padding": null,
            "right": null,
            "top": null,
            "visibility": null,
            "width": null
          }
        },
        "fcce36fceac34690aab46c2f1066d8dc": {
          "model_module": "@jupyter-widgets/controls",
          "model_module_version": "1.5.0",
          "model_name": "HTMLModel",
          "state": {
            "_dom_classes": [],
            "_model_module": "@jupyter-widgets/controls",
            "_model_module_version": "1.5.0",
            "_model_name": "HTMLModel",
            "_view_count": null,
            "_view_module": "@jupyter-widgets/controls",
            "_view_module_version": "1.5.0",
            "_view_name": "HTMLView",
            "description": "",
            "description_tooltip": null,
            "layout": "IPY_MODEL_fc06d281c0974f1fbf38549a098aec1c",
            "placeholder": "​",
            "style": "IPY_MODEL_fa355b3ae8b04cf583a2fff30249cfe7",
            "value": "Downloading: 100%"
          }
        }
      }
    }
  },
  "nbformat": 4,
  "nbformat_minor": 0
}
